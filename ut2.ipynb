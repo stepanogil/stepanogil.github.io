{
 "cells": [
  {
   "cell_type": "code",
   "execution_count": 1,
   "metadata": {},
   "outputs": [],
   "source": [
    "import requests\n",
    "import json\n",
    "from icecream import ic\n",
    "\n",
    "def chat(content):\n",
    "    url = \"https://jgs-api-chatbot-service-dev.azurewebsites.net/v1/chats-no-persist\"\n",
    "    headers = {\n",
    "        \"Content-Type\": \"application/json\",\n",
    "        \"X-APP-ID\": \"41063048\",\n",
    "        \"User-Id\": \"STEPHEN_ESS1\",\n",
    "        \"X-API-SECRET-KEY\": \"b2c5f6d0-8b7a-11eb-8dcd-0242ac130003\"\n",
    "    }\n",
    "    data = {\n",
    "        \"message\": [\n",
    "            {\"role\": \"user\", \"content\": content},\n",
    "        ],\n",
    "        \"employee_number\": \"1234567890\",\n",
    "        \"employee_name\": \"Stephen Bonifacio\",\n",
    "        \"employee_email\": \"stephen.bonifacio@email.com\",\n",
    "        \"company_code\": \"URCP\",\n",
    "        \"role\": \"USER\"\n",
    "    }\n",
    "\n",
    "    response = requests.post(url, json=data, headers=headers)\n",
    "\n",
    "    # pretty_json = json.dumps(json.loads(response.text), indent=2)\n",
    "    # print(pretty_json)\n",
    "    # return dict[\"data\"][\"message\"][\"content\"]\n",
    "\n",
    "    dict = json.loads(response.text)\n",
    "    res = dict[\"data\"][\"message\"][\"content\"]\n",
    "\n",
    "    print(res)\n",
    "    \n",
    "    "
   ]
  },
  {
   "cell_type": "code",
   "execution_count": 2,
   "metadata": {},
   "outputs": [
    {
     "name": "stdout",
     "output_type": "stream",
     "text": [
      "Hello! How can I assist you today?\n"
     ]
    }
   ],
   "source": [
    "chat(\"hi assistant\")"
   ]
  },
  {
   "cell_type": "markdown",
   "metadata": {},
   "source": [
    "# Pag-ibig "
   ]
  },
  {
   "cell_type": "code",
   "execution_count": 4,
   "metadata": {},
   "outputs": [
    {
     "name": "stdout",
     "output_type": "stream",
     "text": [
      "To apply for a Pag-IBIG Multi-Purpose Loan, please follow these steps:\n",
      "\n",
      "1. Log your request by creating a ticket in the Employee Service Portal.\n",
      "2. Attach your accomplished loan application form and other requirements to the ticket before submitting.\n",
      "3. Aspen HR will review your requirements and, once complete, will electronically sign your application form and send it to you via email and through the ticket.\n",
      "4. Submit your loan application on the Pag-IBIG website: [Pag-IBIG Loan Application](https://www.pagibigfundservices.com/virtualpagibig/Loans.aspx).\n",
      "5. Save the Reference Number of your loan application to check the status later.\n",
      "6. Provide Aspen HR with your Reference Number by responding to the email notification or by replying through your ticket.\n",
      "7. Wait for a text message from Pag-IBIG once your loan proceeds are credited to your EMV cash card.\n",
      "8. Check your EMV cash card for the credited amount.\n",
      "\n",
      "Remember to use black ink when completing the form and print the application form back-to-back on a single sheet of paper. Ensure you sign the back portion of the form for seamless processing.\n",
      "\n",
      "You can download the Pag-IBIG Multi-Purpose Loan Application Form [here](https://www.pagibigfund.gov.ph/document/pdf/dlforms/providentrelated/SLF065_MultiPurposeLoanApplicationForm_V06.pdf).\n"
     ]
    }
   ],
   "source": [
    "chat(\"How to apply for a Pag-IBIG Multi-Purpose Loan?\")"
   ]
  },
  {
   "cell_type": "code",
   "execution_count": 5,
   "metadata": {},
   "outputs": [
    {
     "name": "stdout",
     "output_type": "stream",
     "text": [
      "To file a manual submission of a Pag-IBIG Loan through Aspen, please follow these steps:\n",
      "\n",
      "1. Log your request by creating a ticket.\n",
      "2. Prepare your transmittal form and submit your complete requirements to Aspen Human Resources at 10th Floor Cyberscape Beta, between Topaz and Ruby Roads, Ortigas Central Business District, Pasig City.\n",
      "3. Aspen HR will validate and sign your form. You may read \"How to fill out the Pag-IBIG Multi-Purpose Loan (MPL) Application Form\" for guidance.\n",
      "4. Aspen HR reviews your requirements and, once complete, submits your loan application to Pag-IBIG and monitors the status of your loan application and the crediting of your loan proceeds.\n",
      "\n",
      "Make sure you have prepared the following requirements for submission through Aspen:\n",
      "\n",
      "- Hard copy Pag-IBIG MPL Application Form (front and back)\n",
      "- Hard copy of one month payslip\n",
      "- Photocopy of 2 valid IDs (e.g., Pag-IBIG Loyalty Card, Company ID, Passport, SSS Card, Driver's License, Voter's ID, Postal ID, PRC License, Integrated Bar of the Philippines ID)\n",
      "- Photocopy of EMV cash card with 3 specimen signatures\n",
      "\n",
      "Wait for the text message from Pag-IBIG once your loan proceeds are credited to your EMV cash card and check your EMV cash card for the credited amount.\n"
     ]
    }
   ],
   "source": [
    "chat(\"How to file manual submission of Pag-IBIG Loan through Aspen?\")"
   ]
  },
  {
   "cell_type": "code",
   "execution_count": 6,
   "metadata": {},
   "outputs": [
    {
     "name": "stdout",
     "output_type": "stream",
     "text": [
      "For manual filing and submission of a Pag-IBIG Loan Application, you need to prepare the following requirements:\n",
      "\n",
      "1. Hard copy Pag-IBIG MPL Application Form (front and back)\n",
      "2. Hard copy of one month payslip\n",
      "3. Photocopy of 2 valid IDs (choose from the following):\n",
      "   - Pag-IBIG Loyalty Card\n",
      "   - Company ID\n",
      "   - Passport\n",
      "   - SSS Card\n",
      "   - Driver's License\n",
      "   - Voter's ID\n",
      "   - Postal ID\n",
      "   - PRC License\n",
      "   - Integrated Bar of the Philippines ID\n",
      "4. Photocopy of EMV cash card with 3 specimen signatures\n",
      "\n",
      "After preparing these, you can submit your complete requirements to Aspen Human Resources or personally to the Pag-IBIG branch near you.\n"
     ]
    }
   ],
   "source": [
    "chat(\"What are the requirements of manual filing and submission of Pag-IBIG Loan Application?\")"
   ]
  },
  {
   "cell_type": "code",
   "execution_count": 7,
   "metadata": {},
   "outputs": [
    {
     "name": "stdout",
     "output_type": "stream",
     "text": [
      "To check your Pag-IBIG contributions, follow these steps:\n",
      "\n",
      "1. Fill out the Request Slip.\n",
      "2. Prepare a photocopy of your valid ID (e.g., Pag-IBIG Loyalty Card, Passport, SSS Card, Driver’s License, Voter’s ID, Postal ID, PRC License, or Integrated Bar of the Philippines ID).\n",
      "3. Submit your Request Slip and photocopy of your valid ID to any Pag-IBIG branch.\n",
      "4. Receive a copy of your contributions or ESAV from the Pag-IBIG Officer within the day.\n",
      "\n",
      "You can download the Pag-IBIG Contribution Request Slip from the Pag-IBIG website and find the nearest Pag-IBIG Branch there as well.\n"
     ]
    }
   ],
   "source": [
    "chat(\"How to check Pag-IBIG contributions?\")"
   ]
  },
  {
   "cell_type": "code",
   "execution_count": 8,
   "metadata": {},
   "outputs": [
    {
     "name": "stdout",
     "output_type": "stream",
     "text": [
      "To apply for a Pag-IBIG Calamity Loan, follow these steps:\n",
      "\n",
      "1. Ensure you are eligible:\n",
      "   - At least 24 monthly posted Pag-IBIG contributions.\n",
      "   - At least 1 monthly contribution within the last 6 months before applying.\n",
      "   - Residing in an area declared under a State of Calamity.\n",
      "\n",
      "2. Prepare the necessary forms and requirements:\n",
      "   - Fill out the Pag-IBIG Fund Calamity Loan Application Form ([Download Form](https://www.pagibigfund.gov.ph/document/pdf/dlforms/providentrelated/SLF066_CalamityLoanApplicationForm_V07.pdf)).\n",
      "   - Complete the Declaration of Being Affected by Calamity Form ([Download Form](https://www.pagibigfund.gov.ph/document/pdf/dlforms/housingrelated/HLF453_SwornDeclarationCalamity_ExpressHRRL_V02.pdf)).\n",
      "   - Photocopy of company ID and government ID with three specimen signatures.\n",
      "   - One-month latest payslip.\n",
      "   - Barangay Clearance stating residency in the affected area.\n",
      "   - Photocopy of your DBP EMV cash card issued by Pag-IBIG (if available).\n",
      "\n",
      "3. Submit the forms and requirements to Aspen Human Resources, 10th Floor Cyberscape Beta, Ortigas Central Business District, Pasig City.\n",
      "\n",
      "4. Await email updates from Aspen Human Resources and a text message from Pag-IBIG regarding the status of your application.\n",
      "\n",
      "5. Check your DBP EMV cash card for the credited loan amount.\n",
      "\n",
      "Remember to use black ink when filling out the forms and print the application form back-to-back on a single sheet of paper. Sign the back portion of the application form for seamless processing. Your loan is payable within 2 years in 24 monthly installments, starting on the 3rd month following the loan date. If you separate from the company, the outstanding balance will be deducted from your final pay. If your final pay is insufficient, you must settle the balance with Pag-IBIG personally.\n"
     ]
    }
   ],
   "source": [
    "chat(\"How to apply for a Pag-IBIG Calamity Loan?\")"
   ]
  },
  {
   "cell_type": "code",
   "execution_count": 9,
   "metadata": {},
   "outputs": [
    {
     "name": "stdout",
     "output_type": "stream",
     "text": [
      "To file a Pag-IBIG Housing Loan Application, please prepare the necessary requirements listed on this page: [Pag-IBIG Loan Requirements](https://www.pagibigfundservices.com/virtualpagibig/HL/Reminder.aspx).\n",
      "\n",
      "Then, you can file your loan application online through this link: [Pag-IBIG Online Housing Loan Application](https://www.pagibigfundservices.com/HousingLoan/Apply/Default.aspx).\n",
      "\n",
      "It is also recommended to visit a Pag-IBIG Branch for inquiries about filing a housing loan. For additional guidance, you may refer to the Pag-IBIG Citizen's Charter for Housing Loan Availment [here](https://www.pagibigfund.gov.ph/document/pdf/citizencharter/Approved%20Citizen's%20Charter%20(Housing%20Loan%20Availment)%20-%20July%202017.pdf).\n"
     ]
    }
   ],
   "source": [
    "chat(\"How to file a Pag-IBIG Housing Loan Application?\")"
   ]
  },
  {
   "cell_type": "code",
   "execution_count": 10,
   "metadata": {},
   "outputs": [
    {
     "name": "stdout",
     "output_type": "stream",
     "text": [
      "To update your Pag-IBIG member's details, follow these steps:\n",
      "\n",
      "1. Prepare the Pag-IBIG Member’s Change of Information Form (MCIF), which you can download from the provided link.\n",
      "2. Gather the required documents:\n",
      "   - Photocopy of your company ID with three specimen signatures.\n",
      "   - Photocopy of a government ID with three specimen signatures (e.g., Pag-IBIG Loyalty Card, Passport, SSS Card, Driver’s License, Voter’s ID, Postal ID, PRC License, or Integrated Bar of the Philippines ID).\n",
      "   - Additional documents depending on the type of change (e.g., Marriage Certificate for change in name due to marriage, Birth Certificate for correction of name or date of birth, Court Order for change in marital status, etc.).\n",
      "3. Submit the accomplished MCIF and the requirements to the designated office:\n",
      "   - For Aspen Human Resources: 10th Floor Cyberscape Beta, Between Topaz and Ruby Roads, Ortigas Central Business District, Pasig City.\n",
      "   - For 1AV: Your respective HR Department.\n",
      "   - For SMG: Directly to Pag-IBIG.\n",
      "4. Wait for email updates regarding the submission of your form to Pag-IBIG.\n",
      "5. After 10 business days from the time your documents were received, wait for the stamped receiving copy of the Pag-IBIG MCIF.\n",
      "\n",
      "Remember to write your details in capital letters on the form. For additional instructions, refer to the back portion of the MCIF.\n"
     ]
    }
   ],
   "source": [
    "chat(\"How to update Pag-IBIG member's details?\")"
   ]
  },
  {
   "cell_type": "code",
   "execution_count": 11,
   "metadata": {},
   "outputs": [
    {
     "name": "stdout",
     "output_type": "stream",
     "text": [
      "To file a retirement benefit claim with Pag-IBIG, follow these steps:\n",
      "\n",
      "1. Check your eligibility:\n",
      "   - Automatically eligible at 65 years old.\n",
      "   - Early retirement is possible if:\n",
      "     - You retired from SSS, GSIS, or government service by law.\n",
      "     - You retired under a private employer's plan and are at least 45 years old.\n",
      "     - You reached 60 years old.\n",
      "\n",
      "2. Prepare the necessary documents:\n",
      "   - Fill out the Pag-IBIG Application for Provident Benefits (APB) Claim Form. You can download the form [here](https://jgsummit.service-now.com/sys_attachment.do?sys_id=853d0471db9ab410c85f7c63f39619a1).\n",
      "   - Original and photocopy of your Pag-IBIG Loyalty Card.\n",
      "   - Original and photocopy of a valid ID with your date of birth.\n",
      "   - If your ID does not show your date of birth, provide an original and photocopy of your Birth Certificate from PSA.\n",
      "\n",
      "3. Submit the form and documents:\n",
      "   - Go to the Pag-IBIG Pasay Branch at Ground Flr. Roxas Strip Building, Libertad cor. Roxas Boulevard, Pasay City.\n",
      "   - Submit your accomplished form and requirements.\n",
      "   - A Pag-IBIG representative will discuss your benefits with you.\n",
      "\n",
      "4. Check the status of your claim at the same Pag-IBIG Branch where you submitted your documents.\n"
     ]
    }
   ],
   "source": [
    "chat(\"How to File a Retirement Benefit Claim with Pag-IBIG?\")"
   ]
  },
  {
   "cell_type": "code",
   "execution_count": 12,
   "metadata": {},
   "outputs": [
    {
     "name": "stdout",
     "output_type": "stream",
     "text": [
      "To request for increased Pag-IBIG contributions or savings, follow these steps:\n",
      "\n",
      "1. Ensure you are a member of Pag-IBIG and an active employee.\n",
      "2. Download and accomplish the Request to Upgrade Membership Savings (MS) Form from the provided link.\n",
      "3. Submit the accomplished MS Form to the appropriate office:\n",
      "   - For Non-EP: Aspen Human Resources at 10th Floor Cyberscape Beta, Ortigas, Pasig City.\n",
      "   - For EP: 42nd Floor Robinsons Equitable Tower, Ortigas, Pasig City.\n",
      "   - For CEB employees: CEB HR at People Department Office, Cebu Pacific Bldg., Pasay City.\n",
      "4. Wait for an email confirmation from Aspen Human Resources that your request has been processed.\n",
      "\n",
      "Your increased contributions will be deducted from your salary on the nearest payout. Increasing your contributions allows you to earn higher dividends and increase your loanable amount for Housing and Multi-Purpose Loans. Note that the employer's share of contributions remains at PHP 100.\n"
     ]
    }
   ],
   "source": [
    "chat(\"How to request for increased Pag-IBIG Contributions or Savings?\")"
   ]
  },
  {
   "cell_type": "code",
   "execution_count": 13,
   "metadata": {},
   "outputs": [
    {
     "name": "stdout",
     "output_type": "stream",
     "text": [
      "To apply for a Pag-IBIG Loyalty Card Plus, follow these steps:\n",
      "\n",
      "1. Ensure you are a member of Pag-IBIG.\n",
      "2. Prepare the following:\n",
      "   - Accomplished Pag-IBIG Loyalty Card Plus Application Form. You can download the form [here](https://jgsummit.service-now.com/sys_attachment.do?sys_id=7b3343c5db354050346a9ea3db961998).\n",
      "   - Your Pag-IBIG Membership Identification (MID) Number.\n",
      "   - Card fee of PhP 125.00.\n",
      "\n",
      "3. Visit the nearest Pag-IBIG Branch. Check the list of offices [here](https://www.pagibigfund.gov.ph/contactus.html).\n",
      "4. Have your MID Number validated by Pag-IBIG Fund Personnel.\n",
      "5. Submit your completed application form and pay the card fee.\n",
      "6. Have your picture and fingerprints taken, and sign on the digital tablet.\n",
      "7. Validate your information on the computer monitor.\n",
      "8. Claim your Pag-IBIG Loyalty Card Plus and PIN mailer from the Bank personnel.\n",
      "9. Update your contact details with Pag-IBIG to receive advisories on new partners and perks.\n",
      "\n",
      "For more information on the card's benefits and partners, visit [Pag-IBIG Loyalty Card Plus Partners and Benefits](https://www.pagibigfund.gov.ph/loyaltycardPlus/).\n"
     ]
    }
   ],
   "source": [
    "chat(\"How to apply for Pag-IBIG Loyalty Card Plus?\")"
   ]
  },
  {
   "cell_type": "code",
   "execution_count": 14,
   "metadata": {},
   "outputs": [
    {
     "name": "stdout",
     "output_type": "stream",
     "text": [
      "To fill out the Pag-IBIG Multi-Purpose Loan (MPL) Application Form, follow these steps:\n",
      "\n",
      "1. Print out a copy of the Pag-IBIG Multi-Purpose Loan Application Form back-to-back on one single sheet of paper. You can download the form from the provided link.\n",
      "\n",
      "2. Provide the necessary details on the upper half of the form.\n",
      "\n",
      "3. Read the Application Agreement, sign above your printed name in the space provided, and provide your Company Name and Signature of your Office Head or Authorized Representative.\n",
      "\n",
      "4. Read the promissory note and sign above your printed name on the space provided. Then, have your MPL form signed by 2 witnesses, who can be relatives or colleagues.\n",
      "\n",
      "5. Fill out the Certificate of NET Pay as applicable.\n",
      "\n",
      "Remember, you must meet certain requirements to file the Certificate of NET Pay, such as having made at least 24 monthly membership savings, at least one membership saving within the last six months, and not having any defaulting Pag-IBIG housing loan or MPL/Calamity Loan accounts. You also need to provide sufficient proof of income.\n"
     ]
    }
   ],
   "source": [
    "chat(\"How to fill out the Pag-IBIG Multi-Purpose Loan (MPL) Application Form?\")"
   ]
  },
  {
   "cell_type": "code",
   "execution_count": 15,
   "metadata": {},
   "outputs": [
    {
     "name": "stdout",
     "output_type": "stream",
     "text": [
      "To file your Pag-IBIG MP2 savings, you should:\n",
      "\n",
      "1. Prepare and accomplish the Modified Pag-IBIG II Enrollment Form. You can download the form using this [link](https://jgsummit.service-now.com/sys_attachment.do?sys_id=4289cdf7dbb28c900b6944371b961919).\n",
      "2. Personally submit the completed form to the nearest Pag-IBIG Branch. You can find the list of branches [here](https://www.pagibigfund.gov.ph/contactus.html).\n",
      "3. Once your MP2 savings account is recorded, pay the monthly savings amount at the Pag-IBIG Branch or any Pag-IBIG Fund-accredited collection partner.\n"
     ]
    }
   ],
   "source": [
    "chat(\"How to file Pag-IBIG MP2 savings?\")"
   ]
  },
  {
   "cell_type": "markdown",
   "metadata": {},
   "source": [
    "# SSS"
   ]
  },
  {
   "cell_type": "code",
   "execution_count": 17,
   "metadata": {},
   "outputs": [
    {
     "name": "stdout",
     "output_type": "stream",
     "text": [
      "To view your SSS loan status or details and loan payments online, follow these steps:\n",
      "\n",
      "1. Prepare your SSS Online Account.\n",
      "2. Go to www.sss.gov.ph and click \"Member.\"\n",
      "3. Log into your account with your username and password.\n",
      "4. Mouse over \"Inquiry\" and click \"Loans Info.\"\n",
      "5. Click \"Salary Loan / Calamity Loan\" to view the latest Loan Application Details.\n",
      "6. To view the summary of your payments, click the first \"SALARY LOAN\" listed in the table of availed loans.\n",
      "7. View your posted loan payments.\n",
      "\n",
      "For SMG employees, take a screenshot of this page and send it to SMG Payroll for salary deduction purposes. Ensure your name, SS number, and CRN number are visible in the screenshot.\n"
     ]
    }
   ],
   "source": [
    "chat(\"How to view SSS loan status or details and loan payments online?\")"
   ]
  },
  {
   "cell_type": "code",
   "execution_count": 18,
   "metadata": {},
   "outputs": [
    {
     "name": "stdout",
     "output_type": "stream",
     "text": [
      "To file a Retirement Benefit Claim with SSS, follow these steps:\n",
      "\n",
      "1. Determine if you are eligible for retirement benefits by having at least 120 monthly contributions and being at least 60 years old (optional retirement) or 65 years old (technical retirement). Other specific conditions apply for underground mineworkers and disability pensioners.\n",
      "\n",
      "2. Choose between the monthly pension or lump sum amount.\n",
      "\n",
      "3. For manual application, prepare the following requirements:\n",
      "   - Accomplished SSS Retirement Claim Application Form\n",
      "   - Accomplished SSS Affidavit of Separation from Employment (if under 65 years old)\n",
      "   - DDR Signature Card and DDR Savings Account form\n",
      "   - Single savings account and submit the account number and a photocopy of your passbook or ATM Card\n",
      "   - Certified true copy of birth or baptismal certificate of dependent children (if applicable)\n",
      "   - Certificate of cessation of business or practice of profession (for self-employed members under 65)\n",
      "   - Certified true copy of marriage certificate (if applicable)\n",
      "   - Proofs of filiation for illegitimate dependent children (if applicable)\n",
      "   - Original UMID or SSS biometrics ID card or two other valid IDs, both with signature and at least one with photo and date of birth\n",
      "\n",
      "4. Print and fill out the SSS Retirement Claim Application Form and SSS Affidavit of Separation from Employment (if applicable).\n",
      "\n",
      "5. Submit the completed forms and other required documents to the nearest SSS branch.\n",
      "\n",
      "*Note: Other supporting documents may be requested by SSS depending on the evaluation of your claim.\n"
     ]
    }
   ],
   "source": [
    "chat(\"How to File a Retirement Benefit Claim with SSS?\")"
   ]
  },
  {
   "cell_type": "code",
   "execution_count": null,
   "metadata": {},
   "outputs": [
    {
     "name": "stdout",
     "output_type": "stream",
     "text": [
      "To enroll your bank account on My.SSS for your benefits loan proceeds, follow these steps:\n",
      "\n",
      "1. Provide valid and active bank account details or mobile numbers.\n",
      "2. Do not use closed, dormant, frozen, dollar, joint, time-deposit, prepaid, or restricted accounts.\n",
      "3. Ensure the account name matches your registered name in SSS.\n",
      "4. Avoid using an account already registered for SSS disbursement by someone else.\n",
      "5. Enter the correct bank account number, not the ATM card number.\n",
      "6. Employers can enroll one PESONet-participating bank account; employed and individually-paying members can enroll up to three but nominate one for disbursement.\n",
      "7. For Cash Cards, check if the issuing bank allows SSS disbursement.\n",
      "8. For Remittance Payout Companies (RTCs) and Cash Payout Outlets (CPOs), ensure your mobile number is correct for receiving the reference number via text.\n",
      "9. Encode mobile numbers in an 11-digit format without extra characters.\n",
      "10. For E-Wallets like PayMaya, ensure your account is upgraded to receive full proceeds.\n",
      "\n",
      "Remember, any errors in the details can result in non-crediting of benefits, and re-crediting may take up to 30 days upon correction.\n"
     ]
    }
   ],
   "source": [
    "chat(\"How to Enroll your Bank Account on My.SSS for your Benefits Loan Proceeds?\")"
   ]
  },
  {
   "cell_type": "markdown",
   "metadata": {},
   "source": [
    "# Philhealth"
   ]
  },
  {
   "cell_type": "code",
   "execution_count": 20,
   "metadata": {},
   "outputs": [
    {
     "name": "stdout",
     "output_type": "stream",
     "text": [
      "To request your PhilHealth documents, follow these steps:\n",
      "\n",
      "1. Log your request by creating a ticket through the provided link.\n",
      "2. Validate the information that is automatically populated in the ticket.\n",
      "3. Provide the required details, including your hire date.\n",
      "4. Identify your preferred Mode of Delivery.\n",
      "5. Wait for updates via the ticketing system and email.\n",
      "6. Receive your documents based on your preferred Mode of Delivery.\n",
      "\n",
      "Remember to request your PhilHealth Certificate and Claim Form 1 as soon as you or your dependent is confined for a hassle-free hospital discharge. If you've been with the company for less than 9 months, you'll receive your Certificate of Contributions and MDR, and you should visit a PhilHealth branch for your list of posted contributions.\n"
     ]
    }
   ],
   "source": [
    "chat(\"How to request for your Philhealth documents?\")"
   ]
  },
  {
   "cell_type": "code",
   "execution_count": 21,
   "metadata": {},
   "outputs": [
    {
     "name": "stdout",
     "output_type": "stream",
     "text": [
      "To apply for a PhilHealth ID card, follow these steps:\n",
      "\n",
      "1. Ensure you are a PhilHealth member to be eligible.\n",
      "2. Prepare a photocopy of your government ID.\n",
      "3. Prepare an authorization letter using the provided template.\n",
      "4. Submit the photocopy of your ID and Authorization Letter to Aspen Human Resources at 10th Floor Cyberscape Beta, Ortigas Central Business District, Pasig City.\n",
      "5. Wait for email updates from Aspen Human Resources regarding the submission of your documents to PhilHealth.\n",
      "6. Receive your regular PhilHealth ID at your office after 2 weeks from the time Aspen Human Resources received your request.\n",
      "\n",
      "Tips:\n",
      "- You can personally go to the nearest PhilHealth office to apply for your regular PhilHealth ID and receive it the same day.\n",
      "- If you need to update your last name on the ID, fill out the PhilHealth Member Registration Form (PMRF) first to update your details.\n",
      "\n",
      "For the PhilHealth Health Insurance Card, you need to apply personally at any PhilHealth branch.\n"
     ]
    }
   ],
   "source": [
    "chat(\"How to apply for a Philhealth ID card?\")"
   ]
  },
  {
   "cell_type": "code",
   "execution_count": 22,
   "metadata": {},
   "outputs": [
    {
     "name": "stdout",
     "output_type": "stream",
     "text": [
      "The new PhilHealth premium rate is 4% with an income floor of Php 10,000.00 and an income ceiling of Php 80,000.00. Your monthly contribution would depend on your monthly basic pay. For example, if your monthly basic pay is Php 50,000.00, your total monthly premium would be Php 2,000.00, which is split equally between you and your employer (Php 1,000.00 each). If your monthly basic pay is above Php 80,000.00, the calculation will be based on the income ceiling of Php 80,000.00, resulting in a total monthly premium of Php 3,200.00, also split equally between you and your employer (Php 1,600.00 each).\n"
     ]
    }
   ],
   "source": [
    "chat(\"How much are my monthly PhilHealth Premium Contribution?\")"
   ]
  },
  {
   "cell_type": "code",
   "execution_count": 23,
   "metadata": {},
   "outputs": [
    {
     "name": "stdout",
     "output_type": "stream",
     "text": [
      "To update your PhilHealth member's details, follow these steps:\n",
      "\n",
      "1. Prepare two copies of the accomplished PhilHealth Member Registration Form (PMRF). You can download the form using the provided link in the HR knowledge base document.\n",
      "\n",
      "2. Prepare photocopies of 2 valid IDs (Company and Government ID).\n",
      "\n",
      "3. Depending on the changes you are reporting, you may need additional documents:\n",
      "   - For a change of civil status from Single to Married: 2 photocopies of your Marriage Certificate or Contract from the Philippine Statistics Authority.\n",
      "   - For adding or changing dependents: 2 photocopies of Birth Certificate(s) of child(ren) from the Philippine Statistics Authority.\n",
      "   - For correction of name or date of birth: 2 photocopies of your Birth Certificate from the Philippine Statistics Authority.\n",
      "\n",
      "4. Submit the completed PMRF and the required documents to Aspen Human Resources or your respective HR Department, depending on your business unit.\n",
      "\n",
      "5. Wait for email updates regarding the submission of your form to PhilHealth.\n",
      "\n",
      "6. Expect to receive a soft copy of your updated Member Data Record (MDR) via email after 2 weeks from the time HR received your request. You can also check your MDR through your PhilHealth online account.\n",
      "\n",
      "For the link to the PMRF form and instructions on requesting certificates from the Philippine Statistics Authority, please refer to the HR knowledge base document.\n"
     ]
    }
   ],
   "source": [
    "chat(\"How to update PhilHealth member's details?\")"
   ]
  },
  {
   "cell_type": "code",
   "execution_count": 24,
   "metadata": {},
   "outputs": [
    {
     "name": "stdout",
     "output_type": "stream",
     "text": [
      "To fill out the PhilHealth Member Registration Form (PMRF), please follow these steps:\n",
      "\n",
      "1. Print out 2 copies of the PMRF from the provided link.\n",
      "2. Fill out the form with the required information.\n",
      "3. Attach a 1x1 photo taken within the last 6 months.\n",
      "4. Prepare the original and photocopy of your Senior Citizen's Identification Card issued by the OSCA or any other valid ID.\n",
      "5. Submit the accomplished PMRF and the requirements to the nearest PhilHealth office.\n",
      "\n",
      "You can find the nearest PhilHealth branch by clicking on the link provided in the document.\n"
     ]
    }
   ],
   "source": [
    "chat(\"How to fill out the PhilHealth Member Registration Form (PMRF)?\")"
   ]
  },
  {
   "cell_type": "code",
   "execution_count": 25,
   "metadata": {},
   "outputs": [
    {
     "name": "stdout",
     "output_type": "stream",
     "text": [
      "To become a Lifetime Member of PhilHealth, you must:\n",
      "\n",
      "1. Be a Filipino citizen, a resident of the Philippines, and aged 60 years or above.\n",
      "2. Have paid at least 120 monthly contributions.\n",
      "3. Accomplish 2 copies of the PhilHealth Member Registration Form (PMRF).\n",
      "4. Prepare a 1x1 photo taken within the last 6 months.\n",
      "5. Provide the original and photocopy of your Senior Citizen's Identification Card issued by the OSCA or 1 valid ID.\n",
      "6. Submit the accomplished PMRF and requirements to the nearest PhilHealth office.\n",
      "\n",
      "You can find the nearest PhilHealth branch by clicking the provided link in the document. If you need the PhilHealth Member Registration Form (PMRF), I can provide the link for you to download it. Would you like me to do that?\n"
     ]
    }
   ],
   "source": [
    "chat(\"How to Become a Lifetime Member of PhilHealth?\")"
   ]
  },
  {
   "cell_type": "code",
   "execution_count": 26,
   "metadata": {},
   "outputs": [
    {
     "name": "stdout",
     "output_type": "stream",
     "text": [
      "To fill out the PhilHealth Documents request ticket, follow these steps:\n",
      "\n",
      "1. View the article about PhilHealth documents by clicking the provided link.\n",
      "2. Validate the information in the ticket.\n",
      "3. If submitting on behalf of an employee, select their name from the dropdown or check \"Employee is not found in the list\" and enter their full name.\n",
      "4. Provide other required details. If your location is not listed, check \"Location not listed\" and enter the work location.\n",
      "5. Choose your preferred Mode of Delivery for the PhilHealth Documents.\n",
      "6. If picking up at your office location, enter the floor number and building name.\n",
      "7. If picking up at Aspen Office, indicate if you or a representative will pick up the documents. If a representative, provide their full name and contact number.\n",
      "8. For GrabBike Delivery, no additional information is needed, but you are responsible for booking and fees. Include special instructions for the GrabBike driver.\n",
      "9. Add any employee to the \"Watch List\" for status notifications.\n",
      "10. Click Submit after filling up all required details.\n"
     ]
    }
   ],
   "source": [
    "chat(\"How to fill out the PhilHealth Documents request ticket?\")"
   ]
  },
  {
   "cell_type": "code",
   "execution_count": 27,
   "metadata": {},
   "outputs": [
    {
     "name": "stdout",
     "output_type": "stream",
     "text": [
      "To view your PhilHealth contributions and MDR online:\n",
      "\n",
      "1. Prepare your PhilHealth online account.\n",
      "2. Visit https://memberinquiry.philhealth.gov.ph/member/ and log into your account.\n",
      "3. Answer your Security Question to proceed.\n",
      "4. Once logged in, you'll see your PhilHealth personal details.\n",
      "\n",
      "For viewing your posted contributions:\n",
      "1. Click \"Premium Contributions\".\n",
      "2. You'll see a summary of your contributions and the latest posted contributions.\n",
      "3. For other contributions, scroll down and click on the succeeding pages.\n",
      "\n",
      "For viewing your MDR:\n",
      "1. Click \"MDR Printing\".\n",
      "2. Your MDR will be displayed, and you can download or print it.\n",
      "\n",
      "If you find any discrepancies in your record, please reach out to Aspen Human Resources for assistance with PhilHealth.\n"
     ]
    }
   ],
   "source": [
    "chat(\"How to view PhilHealth contributions and Member's Data Record (MDR) online?\")"
   ]
  },
  {
   "cell_type": "code",
   "execution_count": 28,
   "metadata": {},
   "outputs": [
    {
     "name": "stdout",
     "output_type": "stream",
     "text": [
      "To create a PhilHealth online account, follow these steps:\n",
      "\n",
      "1. Prepare your PhilHealth Identification Number (PIN) and your personal email address.\n",
      "2. Go to www.philhealth.gov.ph/services/inquiry/ and click \"Register.\"\n",
      "3. Complete the required personal information.\n",
      "4. Assign your Security Questions with corresponding answers and click \"Submit Registration.\"\n",
      "5. Wait for the confirmation window to appear after submitting your registration form.\n",
      "6. Activate your online account by clicking the link that will be provided to you by PhilHealth through an email.\n",
      "7. Wait for the prompt on the website that your account has been activated.\n",
      "\n",
      "Remember to double-check the information you provide during registration and activate your account immediately upon receiving the email confirmation.\n"
     ]
    }
   ],
   "source": [
    "chat(\"How to create a Philhealth online account?\")"
   ]
  },
  {
   "cell_type": "markdown",
   "metadata": {},
   "source": [
    "# Others"
   ]
  },
  {
   "cell_type": "code",
   "execution_count": 29,
   "metadata": {},
   "outputs": [
    {
     "name": "stdout",
     "output_type": "stream",
     "text": [
      "To file an RBank GO! Salary Loan application, follow these steps:\n",
      "\n",
      "1. Check if you are eligible. You must be an employee of an accredited company of Robinsons Bank.\n",
      "2. For SMG employees, ensure you have a minimum of 18 months of employment.\n",
      "3. Prepare the following requirements:\n",
      "   - Photo of a valid government ID (TIN or SSS)\n",
      "   - Soft copy or photo of your most recent payslip (1 month)\n",
      "   - If applying for an Appliance Purchase Loan, get an appliance price quotation from Robinsons Appliance Store and fill out the RBank Loan Payee Form.\n",
      "4. Visit the GO! Salary Loan Application Site specific to your business unit. If your company link is not listed, contact your HR for the correct link.\n",
      "5. Use the loan calculator to select your preferred loan amount and term payment.\n",
      "6. Fill out the application form with your employment and personal information.\n",
      "7. Upload the required documents.\n",
      "8. Review and submit your form.\n",
      "9. Wait for email and text confirmation of your successful application submission.\n",
      "10. Your application will be reviewed, and you will receive an email and text regarding your loan application status.\n",
      "\n",
      "Remember, there are charges such as a processing fee, credit insurance fee, and applicable documentary stamps tax for loans over P250,000. The interest rate is 0.85% per month, and loan terms range from 6 to 36 months.\n"
     ]
    }
   ],
   "source": [
    "chat(\"How to file RBank GO! Salary Loan application\")"
   ]
  },
  {
   "cell_type": "code",
   "execution_count": 30,
   "metadata": {},
   "outputs": [
    {
     "name": "stdout",
     "output_type": "stream",
     "text": [
      "*I'm sorry I don't have this information, please ask assistance from your HRBP*.\n"
     ]
    }
   ],
   "source": [
    "chat(\"XXXXXXXX\")"
   ]
  },
  {
   "cell_type": "code",
   "execution_count": 33,
   "metadata": {},
   "outputs": [
    {
     "name": "stdout",
     "output_type": "stream",
     "text": [
      "*I'm sorry I don't have this information, please ask assistance from your HRBP*.\n"
     ]
    }
   ],
   "source": [
    "chat(\"Cellphone Allowance\")"
   ]
  }
 ],
 "metadata": {
  "kernelspec": {
   "display_name": ".venv_azure_solutions",
   "language": "python",
   "name": "python3"
  },
  "language_info": {
   "codemirror_mode": {
    "name": "ipython",
    "version": 3
   },
   "file_extension": ".py",
   "mimetype": "text/x-python",
   "name": "python",
   "nbconvert_exporter": "python",
   "pygments_lexer": "ipython3",
   "version": "3.10.12"
  }
 },
 "nbformat": 4,
 "nbformat_minor": 2
}
