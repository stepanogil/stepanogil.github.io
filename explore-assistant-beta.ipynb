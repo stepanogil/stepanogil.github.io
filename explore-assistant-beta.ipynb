{
 "cells": [
  {
   "cell_type": "markdown",
   "metadata": {},
   "source": [
    "### Imports"
   ]
  },
  {
   "cell_type": "code",
   "execution_count": 67,
   "metadata": {},
   "outputs": [],
   "source": [
    "import requests\n",
    "import os\n",
    "import json\n",
    "from dotenv import load_dotenv\n",
    "from assistants_api_object_pretty_printer import pretty_print, pretty_print_thread\n",
    "\n",
    "load_dotenv()\n",
    "\n",
    "\n",
    "openai_api_key = os.getenv('OPENAI_API_KEY')\n",
    "\n",
    "from openai import OpenAI\n",
    "client = OpenAI()"
   ]
  },
  {
   "cell_type": "markdown",
   "metadata": {},
   "source": [
    "\n",
    "## Step 1: Create Assistant\n",
    "\n",
    "Assistants should be created once and referenced all throught via the assistant_id\n",
    "\n",
    "assistant_id = \"asst_y3eBA6MHVryI4X81SeS1U0Ni\""
   ]
  },
  {
   "cell_type": "code",
   "execution_count": 68,
   "metadata": {},
   "outputs": [],
   "source": [
    "from openai import OpenAI\n",
    "client = OpenAI()\n",
    "\n",
    "assistant = client.beta.assistants.create(\n",
    "    instructions=\"You are a friendly assistant.\",\n",
    "    name=\"Assistant Beta\",\n",
    "    tools = [],\n",
    "    model=\"gpt-3.5-turbo-1106\"\n",
    ")\n",
    "pretty_print(assistant)"
   ]
  },
  {
   "cell_type": "markdown",
   "metadata": {},
   "source": [
    "### Utils: View Details of Existing Assistant"
   ]
  },
  {
   "cell_type": "code",
   "execution_count": 69,
   "metadata": {},
   "outputs": [
    {
     "name": "stdout",
     "output_type": "stream",
     "text": [
      "{\n",
      "  \"id\": \"asst_y3eBA6MHVryI4X81SeS1U0Ni\",\n",
      "  \"created_at\": \"1699689431\",\n",
      "  \"description\": null,\n",
      "  \"file_ids\": [],\n",
      "  \"instructions\": \"You are a friendly assistant.\",\n",
      "  \"metadata\": \"{}\",\n",
      "  \"model\": \"gpt-3.5-turbo-1106\",\n",
      "  \"name\": \"Assistant Beta\",\n",
      "  \"object\": \"assistant\",\n",
      "  \"tools\": [\n",
      "    {\n",
      "      \"function\": {\n",
      "        \"name\": \"getCurrentWeather\",\n",
      "        \"parameters\": \"{'type': 'object', 'properties': {'location': {'type': 'string', 'description': 'The city and state e.g. San Francisco, CA'}, 'unit': {'type': 'string', 'enum': ['c', 'f']}}, 'required': ['location']}\",\n",
      "        \"description\": \"Get the weather in location\"\n",
      "      },\n",
      "      \"type\": \"function\"\n",
      "    },\n",
      "    {\n",
      "      \"function\": {\n",
      "        \"name\": \"getCurrentTraffic\",\n",
      "        \"parameters\": \"{'type': 'object', 'properties': {'city': {'type': 'string', 'description': 'The city and state e.g. San Francisco, CA'}}, 'required': ['city']}\",\n",
      "        \"description\": \"Get the current traffic condition in a city.\"\n",
      "      },\n",
      "      \"type\": \"function\"\n",
      "    }\n",
      "  ]\n",
      "}\n"
     ]
    }
   ],
   "source": [
    "assistant_beta = client.beta.assistants.retrieve(\"asst_y3eBA6MHVryI4X81SeS1U0Ni\")\n",
    "pretty_print(assistant_beta)"
   ]
  },
  {
   "cell_type": "markdown",
   "metadata": {},
   "source": [
    "#### Set Assistant ID as constant"
   ]
  },
  {
   "cell_type": "code",
   "execution_count": 70,
   "metadata": {},
   "outputs": [],
   "source": [
    "# to be set in env variables\n",
    "ASSISTANT_ID = \"asst_y3eBA6MHVryI4X81SeS1U0Ni\"\n",
    "\n",
    "assistant_id = ASSISTANT_ID"
   ]
  },
  {
   "cell_type": "markdown",
   "metadata": {},
   "source": [
    "### Utils: Update assistant (for example if you want to add/remove tools)"
   ]
  },
  {
   "cell_type": "code",
   "execution_count": 71,
   "metadata": {},
   "outputs": [
    {
     "name": "stdout",
     "output_type": "stream",
     "text": [
      "{\n",
      "  \"id\": \"asst_y3eBA6MHVryI4X81SeS1U0Ni\",\n",
      "  \"created_at\": \"1699689431\",\n",
      "  \"description\": null,\n",
      "  \"file_ids\": [],\n",
      "  \"instructions\": \"You are a friendly assistant.\",\n",
      "  \"metadata\": \"{}\",\n",
      "  \"model\": \"gpt-3.5-turbo-1106\",\n",
      "  \"name\": \"Assistant Beta\",\n",
      "  \"object\": \"assistant\",\n",
      "  \"tools\": [\n",
      "    {\n",
      "      \"type\": \"code_interpreter\"\n",
      "    },\n",
      "    {\n",
      "      \"function\": {\n",
      "        \"name\": \"getCurrentWeather\",\n",
      "        \"parameters\": \"{'type': 'object', 'properties': {'location': {'type': 'string', 'description': 'The city and state e.g. San Francisco, CA'}, 'unit': {'type': 'string', 'enum': ['c', 'f']}}, 'required': ['location']}\",\n",
      "        \"description\": \"Get the weather in location\"\n",
      "      },\n",
      "      \"type\": \"function\"\n",
      "    }\n",
      "  ]\n",
      "}\n"
     ]
    }
   ],
   "source": [
    "assistant_beta = client.beta.assistants.update(\n",
    "  assistant_id,\n",
    "  instructions=\"You are a friendly assistant.\",\n",
    "  name=\"Assistant Beta\",\n",
    "  tools=[\n",
    "        {\n",
    "            \"type\": \"code_interpreter\"\n",
    "        },\n",
    "        {\n",
    "            \"type\": \"function\",\n",
    "            \"function\": {\n",
    "                \"name\": \"getCurrentWeather\",\n",
    "                \"description\": \"Get the weather in location\",\n",
    "                \"parameters\": {\n",
    "                    \"type\": \"object\",\n",
    "                    \"properties\": {\n",
    "                        \"location\": {\n",
    "                            \"type\": \"string\", \n",
    "                            \"description\": \"The city and state e.g. San Francisco, CA\"\n",
    "                        },\n",
    "                        \"unit\": {\n",
    "                            \"type\": \"string\", \n",
    "                            \"enum\": [\"c\", \"f\"]\n",
    "                        }\n",
    "                    },\n",
    "                    \"required\": [\"location\"]\n",
    "                }\n",
    "            },\n",
    "        }\n",
    "    ],\n",
    "  model=\"gpt-3.5-turbo-1106\",\n",
    "  #file_ids=[\"file-abc123\", \"file-abc456\"],\n",
    ")\n",
    "\n",
    "pretty_print(assistant_beta)\n"
   ]
  },
  {
   "cell_type": "markdown",
   "metadata": {},
   "source": [
    "# Step 2: Create Thread\n",
    "\n",
    "TIP: Threads can be assigned to different assistants (.e.g. same assistant but one powered by GPT3.5, another by GPT4)"
   ]
  },
  {
   "cell_type": "code",
   "execution_count": 72,
   "metadata": {},
   "outputs": [
    {
     "name": "stdout",
     "output_type": "stream",
     "text": [
      "{\n",
      "  \"id\": \"thread_AIl0jp0eeQdXY00zAi2Hjyxr\",\n",
      "  \"created_at\": \"1699792936\",\n",
      "  \"metadata\": \"{}\",\n",
      "  \"object\": \"thread\"\n",
      "}\n"
     ]
    }
   ],
   "source": [
    "thread = client.beta.threads.create()\n",
    "pretty_print(thread)"
   ]
  },
  {
   "cell_type": "markdown",
   "metadata": {},
   "source": [
    "## Step 3: Create Message"
   ]
  },
  {
   "cell_type": "code",
   "execution_count": 73,
   "metadata": {},
   "outputs": [
    {
     "name": "stdout",
     "output_type": "stream",
     "text": [
      "{\n",
      "  \"id\": \"msg_LbLLWQCSLEc2caBjqEmr0jbb\",\n",
      "  \"assistant_id\": null,\n",
      "  \"content\": [\n",
      "    {\n",
      "      \"text\": {\n",
      "        \"annotations\": [],\n",
      "        \"value\": \"Hows the weather in Metro Manila today?\"\n",
      "      },\n",
      "      \"type\": \"text\"\n",
      "    }\n",
      "  ],\n",
      "  \"created_at\": \"1699792937\",\n",
      "  \"file_ids\": [],\n",
      "  \"metadata\": \"{}\",\n",
      "  \"object\": \"thread.message\",\n",
      "  \"role\": \"user\",\n",
      "  \"run_id\": null,\n",
      "  \"thread_id\": \"thread_AIl0jp0eeQdXY00zAi2Hjyxr\"\n",
      "}\n"
     ]
    }
   ],
   "source": [
    "message = client.beta.threads.messages.create(\n",
    "    thread_id=thread.id,\n",
    "    role=\"user\",\n",
    "    content=\"Hows the weather in Metro Manila today?\"\n",
    ")\n",
    "pretty_print(message)"
   ]
  },
  {
   "cell_type": "markdown",
   "metadata": {},
   "source": [
    "### Utils: Display Existing Messages in Thread ID"
   ]
  },
  {
   "cell_type": "code",
   "execution_count": 74,
   "metadata": {},
   "outputs": [
    {
     "name": "stdout",
     "output_type": "stream",
     "text": [
      "{\n",
      "  \"id\": \"msg_LbLLWQCSLEc2caBjqEmr0jbb\",\n",
      "  \"assistant_id\": null,\n",
      "  \"content\": [\n",
      "    {\n",
      "      \"text\": {\n",
      "        \"annotations\": [],\n",
      "        \"value\": \"Hows the weather in Metro Manila today?\"\n",
      "      },\n",
      "      \"type\": \"text\"\n",
      "    }\n",
      "  ],\n",
      "  \"created_at\": \"1699792937\",\n",
      "  \"file_ids\": [],\n",
      "  \"metadata\": \"{}\",\n",
      "  \"object\": \"thread.message\",\n",
      "  \"role\": \"user\",\n",
      "  \"run_id\": null,\n",
      "  \"thread_id\": \"thread_AIl0jp0eeQdXY00zAi2Hjyxr\"\n",
      "}\n"
     ]
    }
   ],
   "source": [
    "thread_messages = client.beta.threads.messages.list(thread.id)\n",
    "\n",
    "for index in range(len(thread_messages.data)):\n",
    "    pretty_print(thread_messages.data[index])"
   ]
  },
  {
   "cell_type": "markdown",
   "metadata": {},
   "source": [
    "## Step 4: Create Run"
   ]
  },
  {
   "cell_type": "code",
   "execution_count": 75,
   "metadata": {},
   "outputs": [],
   "source": [
    "run = client.beta.threads.runs.create(\n",
    "  thread_id=thread.id,\n",
    "  assistant_id=assistant_id,\n",
    "  instructions=\"always use getCurrentWeather \"\n",
    ")"
   ]
  },
  {
   "cell_type": "markdown",
   "metadata": {},
   "source": [
    "## Step 5: Wait for Run to finish then View"
   ]
  },
  {
   "cell_type": "markdown",
   "metadata": {},
   "source": [
    "Note status value can be: \n",
    "- queued \n",
    "- in_progress\n",
    "- requires_action\n",
    "- cancelling\n",
    "- cancelled \n",
    "- failed\n",
    "- completed\n",
    "- expired"
   ]
  },
  {
   "cell_type": "code",
   "execution_count": 76,
   "metadata": {},
   "outputs": [
    {
     "name": "stdout",
     "output_type": "stream",
     "text": [
      "{\n",
      "  \"id\": \"run_pBD7A4TrEUCcM0AfTMiA0yYq\",\n",
      "  \"assistant_id\": \"asst_y3eBA6MHVryI4X81SeS1U0Ni\",\n",
      "  \"cancelled_at\": null,\n",
      "  \"completed_at\": null,\n",
      "  \"created_at\": \"1699792938\",\n",
      "  \"expires_at\": \"1699793538\",\n",
      "  \"failed_at\": null,\n",
      "  \"file_ids\": [],\n",
      "  \"instructions\": \"always use getCurrentWeather \",\n",
      "  \"last_error\": null,\n",
      "  \"metadata\": \"{}\",\n",
      "  \"model\": \"gpt-3.5-turbo-1106\",\n",
      "  \"object\": \"thread.run\",\n",
      "  \"required_action\": {\n",
      "    \"submit_tool_outputs\": {\n",
      "      \"tool_calls\": [\n",
      "        {\n",
      "          \"id\": \"call_FS5StqzzgjFsks9ZtDafRFgK\",\n",
      "          \"function\": {\n",
      "            \"arguments\": \"{'location': 'Metro Manila', 'unit': 'c'}\",\n",
      "            \"name\": \"getCurrentWeather\"\n",
      "          },\n",
      "          \"type\": \"function\"\n",
      "        }\n",
      "      ]\n",
      "    },\n",
      "    \"type\": \"submit_tool_outputs\"\n",
      "  },\n",
      "  \"started_at\": \"1699792938\",\n",
      "  \"status\": \"requires_action\",\n",
      "  \"thread_id\": \"thread_AIl0jp0eeQdXY00zAi2Hjyxr\",\n",
      "  \"tools\": [\n",
      "    {\n",
      "      \"type\": \"code_interpreter\"\n",
      "    },\n",
      "    {\n",
      "      \"function\": {\n",
      "        \"name\": \"getCurrentWeather\",\n",
      "        \"parameters\": \"{'type': 'object', 'properties': {'location': {'type': 'string', 'description': 'The city and state e.g. San Francisco, CA'}, 'unit': {'type': 'string', 'enum': ['c', 'f']}}, 'required': ['location']}\",\n",
      "        \"description\": \"Get the weather in location\"\n",
      "      },\n",
      "      \"type\": \"function\"\n",
      "    }\n",
      "  ]\n",
      "}\n"
     ]
    }
   ],
   "source": [
    "import time\n",
    "\n",
    "def wait_on_run(run, thread):\n",
    "    while run.status == \"queued\" or run.status == \"in_progress\":\n",
    "        run = client.beta.threads.runs.retrieve(\n",
    "            thread_id=thread.id,\n",
    "            run_id=run.id,\n",
    "        )\n",
    "        time.sleep(0.5)\n",
    "    return run\n",
    "\n",
    "run = wait_on_run(run, thread)\n",
    "pretty_print(run)\n"
   ]
  },
  {
   "cell_type": "markdown",
   "metadata": {},
   "source": [
    "# If status = requires_action: "
   ]
  },
  {
   "cell_type": "markdown",
   "metadata": {},
   "source": [
    "### Initialize tool_call as var \n",
    "\n",
    "It's possible that it will have several index/page of tools to use based on the nature of the query\n",
    "\n",
    "This way, we can just iterate on this object by calling the index position\n"
   ]
  },
  {
   "cell_type": "code",
   "execution_count": 77,
   "metadata": {},
   "outputs": [
    {
     "name": "stdout",
     "output_type": "stream",
     "text": [
      "[\n",
      "  {\n",
      "    \"id\": \"call_FS5StqzzgjFsks9ZtDafRFgK\",\n",
      "    \"function\": {\n",
      "      \"arguments\": \"{'location': 'Metro Manila', 'unit': 'c'}\",\n",
      "      \"name\": \"getCurrentWeather\"\n",
      "    },\n",
      "    \"type\": \"function\"\n",
      "  }\n",
      "]\n"
     ]
    }
   ],
   "source": [
    "tool_call = run.required_action.submit_tool_outputs.tool_calls\n",
    "pretty_print(tool_call)"
   ]
  },
  {
   "cell_type": "markdown",
   "metadata": {},
   "source": [
    "\n",
    "## Step 6: Update Run with Tool Output"
   ]
  },
  {
   "cell_type": "code",
   "execution_count": 78,
   "metadata": {},
   "outputs": [
    {
     "name": "stdout",
     "output_type": "stream",
     "text": [
      "{\n",
      "  \"id\": \"run_pBD7A4TrEUCcM0AfTMiA0yYq\",\n",
      "  \"assistant_id\": \"asst_y3eBA6MHVryI4X81SeS1U0Ni\",\n",
      "  \"cancelled_at\": null,\n",
      "  \"completed_at\": null,\n",
      "  \"created_at\": \"1699792938\",\n",
      "  \"expires_at\": \"1699793538\",\n",
      "  \"failed_at\": null,\n",
      "  \"file_ids\": [],\n",
      "  \"instructions\": \"always use getCurrentWeather \",\n",
      "  \"last_error\": null,\n",
      "  \"metadata\": \"{}\",\n",
      "  \"model\": \"gpt-3.5-turbo-1106\",\n",
      "  \"object\": \"thread.run\",\n",
      "  \"required_action\": null,\n",
      "  \"started_at\": \"1699792938\",\n",
      "  \"status\": \"queued\",\n",
      "  \"thread_id\": \"thread_AIl0jp0eeQdXY00zAi2Hjyxr\",\n",
      "  \"tools\": [\n",
      "    {\n",
      "      \"type\": \"code_interpreter\"\n",
      "    },\n",
      "    {\n",
      "      \"function\": {\n",
      "        \"name\": \"getCurrentWeather\",\n",
      "        \"parameters\": \"{'type': 'object', 'properties': {'location': {'type': 'string', 'description': 'The city and state e.g. San Francisco, CA'}, 'unit': {'type': 'string', 'enum': ['c', 'f']}}, 'required': ['location']}\",\n",
      "        \"description\": \"Get the weather in location\"\n",
      "      },\n",
      "      \"type\": \"function\"\n",
      "    }\n",
      "  ]\n",
      "}\n"
     ]
    }
   ],
   "source": [
    "run = client.beta.threads.runs.submit_tool_outputs(\n",
    "  thread_id=thread.id,\n",
    "  run_id=run.id,\n",
    "  tool_outputs=[\n",
    "    {\n",
    "      \"tool_call_id\": tool_call[0].id,\n",
    "      \"output\": \"19C\"\n",
    "    }\n",
    "  ]\n",
    ")\n",
    "pretty_print(run)"
   ]
  },
  {
   "cell_type": "markdown",
   "metadata": {},
   "source": [
    "### Display Content of Thread again"
   ]
  },
  {
   "cell_type": "code",
   "execution_count": 79,
   "metadata": {},
   "outputs": [
    {
     "name": "stdout",
     "output_type": "stream",
     "text": [
      "{\n",
      "  \"id\": \"msg_LbLLWQCSLEc2caBjqEmr0jbb\",\n",
      "  \"assistant_id\": null,\n",
      "  \"content\": [\n",
      "    {\n",
      "      \"text\": {\n",
      "        \"annotations\": [],\n",
      "        \"value\": \"Hows the weather in Metro Manila today?\"\n",
      "      },\n",
      "      \"type\": \"text\"\n",
      "    }\n",
      "  ],\n",
      "  \"created_at\": \"1699792937\",\n",
      "  \"file_ids\": [],\n",
      "  \"metadata\": \"{}\",\n",
      "  \"object\": \"thread.message\",\n",
      "  \"role\": \"user\",\n",
      "  \"run_id\": null,\n",
      "  \"thread_id\": \"thread_AIl0jp0eeQdXY00zAi2Hjyxr\"\n",
      "}\n"
     ]
    }
   ],
   "source": [
    "thread_messages = client.beta.threads.messages.list(thread.id)\n",
    "\n",
    "for index in range(len(thread_messages.data)):\n",
    "    pretty_print(thread_messages.data[index])"
   ]
  },
  {
   "cell_type": "markdown",
   "metadata": {},
   "source": [
    "### Utils: View Run Steps"
   ]
  },
  {
   "cell_type": "code",
   "execution_count": 80,
   "metadata": {},
   "outputs": [
    {
     "name": "stdout",
     "output_type": "stream",
     "text": [
      "{\n",
      "  \"tool_calls\": [\n",
      "    {\n",
      "      \"id\": \"call_FS5StqzzgjFsks9ZtDafRFgK\",\n",
      "      \"function\": {\n",
      "        \"arguments\": \"{'location': 'Metro Manila', 'unit': 'c'}\",\n",
      "        \"name\": \"getCurrentWeather\",\n",
      "        \"output\": \"19C\"\n",
      "      },\n",
      "      \"type\": \"function\"\n",
      "    }\n",
      "  ],\n",
      "  \"type\": \"tool_calls\"\n",
      "}\n",
      "null\n",
      "{\n",
      "  \"message_creation\": {\n",
      "    \"message_id\": \"msg_A5raofTPapM5hQExs6LgMweX\"\n",
      "  },\n",
      "  \"type\": \"message_creation\"\n",
      "}\n",
      "null\n"
     ]
    }
   ],
   "source": [
    "run_steps = client.beta.threads.runs.steps.list(\n",
    "    thread_id=thread.id, run_id=run.id, order=\"asc\"\n",
    ")\n",
    "\n",
    "for step in run_steps.data:\n",
    "    step_details = step.step_details\n",
    "    print(json.dumps(pretty_print(step_details), indent=4))"
   ]
  },
  {
   "cell_type": "markdown",
   "metadata": {},
   "source": [
    "# Asking follow up questions"
   ]
  },
  {
   "cell_type": "markdown",
   "metadata": {},
   "source": [
    "Current conversation inside the thread:\n",
    "\n",
    "User: \"Hows the weather in Metro Manila today?\"\n",
    "\n",
    "AI: \"The weather in Metro Manila today is 19\\u00b0C.\"\n",
    "\n",
    "### Follow up question:\n",
    "\n",
    "User: \"Why is it so cold?"
   ]
  },
  {
   "cell_type": "markdown",
   "metadata": {},
   "source": [
    "## Step 7: Update Thread with new message"
   ]
  },
  {
   "cell_type": "code",
   "execution_count": 81,
   "metadata": {},
   "outputs": [
    {
     "name": "stdout",
     "output_type": "stream",
     "text": [
      "{\n",
      "  \"id\": \"msg_YFCBU8KG71w8pXXkRBnS7qIA\",\n",
      "  \"assistant_id\": null,\n",
      "  \"content\": [\n",
      "    {\n",
      "      \"text\": {\n",
      "        \"annotations\": [],\n",
      "        \"value\": \"Why is it so cold?\"\n",
      "      },\n",
      "      \"type\": \"text\"\n",
      "    }\n",
      "  ],\n",
      "  \"created_at\": \"1699792942\",\n",
      "  \"file_ids\": [],\n",
      "  \"metadata\": \"{}\",\n",
      "  \"object\": \"thread.message\",\n",
      "  \"role\": \"user\",\n",
      "  \"run_id\": null,\n",
      "  \"thread_id\": \"thread_AIl0jp0eeQdXY00zAi2Hjyxr\"\n",
      "}\n"
     ]
    }
   ],
   "source": [
    "message = client.beta.threads.messages.create(\n",
    "    thread_id=thread.id,\n",
    "    role=\"user\",\n",
    "    content=\"Why is it so cold?\"\n",
    ")\n",
    "pretty_print(message)"
   ]
  },
  {
   "cell_type": "markdown",
   "metadata": {},
   "source": [
    "### Utils: Display Existing Messages in Thread"
   ]
  },
  {
   "cell_type": "code",
   "execution_count": 82,
   "metadata": {},
   "outputs": [
    {
     "name": "stdout",
     "output_type": "stream",
     "text": [
      "{\n",
      "  \"id\": \"msg_YFCBU8KG71w8pXXkRBnS7qIA\",\n",
      "  \"assistant_id\": null,\n",
      "  \"content\": [\n",
      "    {\n",
      "      \"text\": {\n",
      "        \"annotations\": [],\n",
      "        \"value\": \"Why is it so cold?\"\n",
      "      },\n",
      "      \"type\": \"text\"\n",
      "    }\n",
      "  ],\n",
      "  \"created_at\": \"1699792942\",\n",
      "  \"file_ids\": [],\n",
      "  \"metadata\": \"{}\",\n",
      "  \"object\": \"thread.message\",\n",
      "  \"role\": \"user\",\n",
      "  \"run_id\": null,\n",
      "  \"thread_id\": \"thread_AIl0jp0eeQdXY00zAi2Hjyxr\"\n",
      "}\n",
      "{\n",
      "  \"id\": \"msg_A5raofTPapM5hQExs6LgMweX\",\n",
      "  \"assistant_id\": \"asst_y3eBA6MHVryI4X81SeS1U0Ni\",\n",
      "  \"content\": [\n",
      "    {\n",
      "      \"text\": {\n",
      "        \"annotations\": [],\n",
      "        \"value\": \"The current temperature in Metro Manila is 19\\u00b0C.\"\n",
      "      },\n",
      "      \"type\": \"text\"\n",
      "    }\n",
      "  ],\n",
      "  \"created_at\": \"1699792941\",\n",
      "  \"file_ids\": [],\n",
      "  \"metadata\": \"{}\",\n",
      "  \"object\": \"thread.message\",\n",
      "  \"role\": \"assistant\",\n",
      "  \"run_id\": \"run_pBD7A4TrEUCcM0AfTMiA0yYq\",\n",
      "  \"thread_id\": \"thread_AIl0jp0eeQdXY00zAi2Hjyxr\"\n",
      "}\n",
      "{\n",
      "  \"id\": \"msg_LbLLWQCSLEc2caBjqEmr0jbb\",\n",
      "  \"assistant_id\": null,\n",
      "  \"content\": [\n",
      "    {\n",
      "      \"text\": {\n",
      "        \"annotations\": [],\n",
      "        \"value\": \"Hows the weather in Metro Manila today?\"\n",
      "      },\n",
      "      \"type\": \"text\"\n",
      "    }\n",
      "  ],\n",
      "  \"created_at\": \"1699792937\",\n",
      "  \"file_ids\": [],\n",
      "  \"metadata\": \"{}\",\n",
      "  \"object\": \"thread.message\",\n",
      "  \"role\": \"user\",\n",
      "  \"run_id\": null,\n",
      "  \"thread_id\": \"thread_AIl0jp0eeQdXY00zAi2Hjyxr\"\n",
      "}\n"
     ]
    }
   ],
   "source": [
    "thread_messages = client.beta.threads.messages.list(thread.id)\n",
    "\n",
    "for index in range(len(thread_messages.data)):\n",
    "    pretty_print(thread_messages.data[index])"
   ]
  },
  {
   "cell_type": "markdown",
   "metadata": {},
   "source": [
    "## Step 8: Re-Execute Run\n",
    "\n",
    "Removed the instructions param (\"always use getCurrentWeather\") so AI won't use a tool."
   ]
  },
  {
   "cell_type": "code",
   "execution_count": 83,
   "metadata": {},
   "outputs": [],
   "source": [
    "run = client.beta.threads.runs.create(\n",
    "  thread_id=thread.id,\n",
    "  assistant_id=assistant_id,  \n",
    ")"
   ]
  },
  {
   "cell_type": "markdown",
   "metadata": {},
   "source": [
    "## Step 9: Wait for Run to finish then View"
   ]
  },
  {
   "cell_type": "code",
   "execution_count": 84,
   "metadata": {},
   "outputs": [
    {
     "name": "stdout",
     "output_type": "stream",
     "text": [
      "{\n",
      "  \"id\": \"run_Tl2NRVKxlxQYxPYtfephAd43\",\n",
      "  \"assistant_id\": \"asst_y3eBA6MHVryI4X81SeS1U0Ni\",\n",
      "  \"cancelled_at\": null,\n",
      "  \"completed_at\": \"1699792944\",\n",
      "  \"created_at\": \"1699792943\",\n",
      "  \"expires_at\": null,\n",
      "  \"failed_at\": null,\n",
      "  \"file_ids\": [],\n",
      "  \"instructions\": \"You are a friendly assistant.\",\n",
      "  \"last_error\": null,\n",
      "  \"metadata\": \"{}\",\n",
      "  \"model\": \"gpt-3.5-turbo-1106\",\n",
      "  \"object\": \"thread.run\",\n",
      "  \"required_action\": null,\n",
      "  \"started_at\": \"1699792943\",\n",
      "  \"status\": \"completed\",\n",
      "  \"thread_id\": \"thread_AIl0jp0eeQdXY00zAi2Hjyxr\",\n",
      "  \"tools\": [\n",
      "    {\n",
      "      \"type\": \"code_interpreter\"\n",
      "    },\n",
      "    {\n",
      "      \"function\": {\n",
      "        \"name\": \"getCurrentWeather\",\n",
      "        \"parameters\": \"{'type': 'object', 'properties': {'location': {'type': 'string', 'description': 'The city and state e.g. San Francisco, CA'}, 'unit': {'type': 'string', 'enum': ['c', 'f']}}, 'required': ['location']}\",\n",
      "        \"description\": \"Get the weather in location\"\n",
      "      },\n",
      "      \"type\": \"function\"\n",
      "    }\n",
      "  ]\n",
      "}\n"
     ]
    }
   ],
   "source": [
    "import time\n",
    "\n",
    "def wait_on_run(run, thread):\n",
    "    while run.status == \"queued\" or run.status == \"in_progress\":\n",
    "        run = client.beta.threads.runs.retrieve(\n",
    "            thread_id=thread.id,\n",
    "            run_id=run.id,            \n",
    "        )\n",
    "        time.sleep(0.5)\n",
    "    return run\n",
    "\n",
    "run = wait_on_run(run, thread)\n",
    "pretty_print(run)"
   ]
  },
  {
   "cell_type": "markdown",
   "metadata": {},
   "source": [
    "### Utils: Display Existing Messages in Thread \n",
    "to check the Message added by the assistant based on the last user input"
   ]
  },
  {
   "cell_type": "code",
   "execution_count": 85,
   "metadata": {},
   "outputs": [
    {
     "name": "stdout",
     "output_type": "stream",
     "text": [
      "{\n",
      "  \"id\": \"msg_trrQjwa4ohFvr5hc0YZClmBi\",\n",
      "  \"assistant_id\": \"asst_y3eBA6MHVryI4X81SeS1U0Ni\",\n",
      "  \"content\": [\n",
      "    {\n",
      "      \"text\": {\n",
      "        \"annotations\": [],\n",
      "        \"value\": \"The temperature is relatively lower, possibly due to weather patterns, climate, or time of the year. If you'd like, I can provide more information about the weather and temperature trends in Metro Manila.\"\n",
      "      },\n",
      "      \"type\": \"text\"\n",
      "    }\n",
      "  ],\n",
      "  \"created_at\": \"1699792943\",\n",
      "  \"file_ids\": [],\n",
      "  \"metadata\": \"{}\",\n",
      "  \"object\": \"thread.message\",\n",
      "  \"role\": \"assistant\",\n",
      "  \"run_id\": \"run_Tl2NRVKxlxQYxPYtfephAd43\",\n",
      "  \"thread_id\": \"thread_AIl0jp0eeQdXY00zAi2Hjyxr\"\n",
      "}\n",
      "{\n",
      "  \"id\": \"msg_YFCBU8KG71w8pXXkRBnS7qIA\",\n",
      "  \"assistant_id\": null,\n",
      "  \"content\": [\n",
      "    {\n",
      "      \"text\": {\n",
      "        \"annotations\": [],\n",
      "        \"value\": \"Why is it so cold?\"\n",
      "      },\n",
      "      \"type\": \"text\"\n",
      "    }\n",
      "  ],\n",
      "  \"created_at\": \"1699792942\",\n",
      "  \"file_ids\": [],\n",
      "  \"metadata\": \"{}\",\n",
      "  \"object\": \"thread.message\",\n",
      "  \"role\": \"user\",\n",
      "  \"run_id\": null,\n",
      "  \"thread_id\": \"thread_AIl0jp0eeQdXY00zAi2Hjyxr\"\n",
      "}\n",
      "{\n",
      "  \"id\": \"msg_A5raofTPapM5hQExs6LgMweX\",\n",
      "  \"assistant_id\": \"asst_y3eBA6MHVryI4X81SeS1U0Ni\",\n",
      "  \"content\": [\n",
      "    {\n",
      "      \"text\": {\n",
      "        \"annotations\": [],\n",
      "        \"value\": \"The current temperature in Metro Manila is 19\\u00b0C.\"\n",
      "      },\n",
      "      \"type\": \"text\"\n",
      "    }\n",
      "  ],\n",
      "  \"created_at\": \"1699792941\",\n",
      "  \"file_ids\": [],\n",
      "  \"metadata\": \"{}\",\n",
      "  \"object\": \"thread.message\",\n",
      "  \"role\": \"assistant\",\n",
      "  \"run_id\": \"run_pBD7A4TrEUCcM0AfTMiA0yYq\",\n",
      "  \"thread_id\": \"thread_AIl0jp0eeQdXY00zAi2Hjyxr\"\n",
      "}\n",
      "{\n",
      "  \"id\": \"msg_LbLLWQCSLEc2caBjqEmr0jbb\",\n",
      "  \"assistant_id\": null,\n",
      "  \"content\": [\n",
      "    {\n",
      "      \"text\": {\n",
      "        \"annotations\": [],\n",
      "        \"value\": \"Hows the weather in Metro Manila today?\"\n",
      "      },\n",
      "      \"type\": \"text\"\n",
      "    }\n",
      "  ],\n",
      "  \"created_at\": \"1699792937\",\n",
      "  \"file_ids\": [],\n",
      "  \"metadata\": \"{}\",\n",
      "  \"object\": \"thread.message\",\n",
      "  \"role\": \"user\",\n",
      "  \"run_id\": null,\n",
      "  \"thread_id\": \"thread_AIl0jp0eeQdXY00zAi2Hjyxr\"\n",
      "}\n"
     ]
    }
   ],
   "source": [
    "thread_messages = client.beta.threads.messages.list(thread.id)\n",
    "\n",
    "for index in range(len(thread_messages.data)):\n",
    "    pretty_print(thread_messages.data[index])"
   ]
  },
  {
   "cell_type": "markdown",
   "metadata": {},
   "source": [
    "### Utils: Pretty Print Thread Content"
   ]
  },
  {
   "cell_type": "code",
   "execution_count": 86,
   "metadata": {},
   "outputs": [
    {
     "name": "stdout",
     "output_type": "stream",
     "text": [
      "User: \"Hows the weather in Metro Manila today?\"\n",
      "Assistant: \"The current temperature in Metro Manila is 19°C.\"\n",
      "User: \"Why is it so cold?\"\n",
      "Assistant: \"The temperature is relatively lower, possibly due to weather patterns, climate, or time of the year. If you'd like, I can provide more information about the weather and temperature trends in Metro Manila.\"\n",
      "\n"
     ]
    }
   ],
   "source": [
    "print(pretty_print_thread(thread_messages))"
   ]
  },
  {
   "cell_type": "markdown",
   "metadata": {},
   "source": [
    "# New Thread/Same Assistant - AI Uses Multiple Tools for a Single Query"
   ]
  },
  {
   "cell_type": "markdown",
   "metadata": {},
   "source": [
    "## Step 1: Update Assisstant"
   ]
  },
  {
   "cell_type": "markdown",
   "metadata": {},
   "source": [
    "Add new tool \"getCurrentTraffic\""
   ]
  },
  {
   "cell_type": "code",
   "execution_count": 98,
   "metadata": {},
   "outputs": [
    {
     "name": "stdout",
     "output_type": "stream",
     "text": [
      "{\n",
      "  \"id\": \"asst_y3eBA6MHVryI4X81SeS1U0Ni\",\n",
      "  \"created_at\": \"1699689431\",\n",
      "  \"description\": null,\n",
      "  \"file_ids\": [],\n",
      "  \"instructions\": \"You are a friendly assistant.\",\n",
      "  \"metadata\": \"{}\",\n",
      "  \"model\": \"gpt-3.5-turbo-1106\",\n",
      "  \"name\": \"Assistant Beta\",\n",
      "  \"object\": \"assistant\",\n",
      "  \"tools\": [\n",
      "    {\n",
      "      \"function\": {\n",
      "        \"name\": \"getCurrentWeather\",\n",
      "        \"parameters\": \"{'type': 'object', 'properties': {'location': {'type': 'string', 'description': 'The city and state e.g. San Francisco, CA'}, 'unit': {'type': 'string', 'enum': ['c', 'f']}}, 'required': ['location']}\",\n",
      "        \"description\": \"Get the weather in location\"\n",
      "      },\n",
      "      \"type\": \"function\"\n",
      "    },\n",
      "    {\n",
      "      \"function\": {\n",
      "        \"name\": \"getCurrentTraffic\",\n",
      "        \"parameters\": \"{'type': 'object', 'properties': {'city': {'type': 'string', 'description': 'The city and state e.g. San Francisco, CA'}}, 'required': ['city']}\",\n",
      "        \"description\": \"Get the current traffic condition in a city.\"\n",
      "      },\n",
      "      \"type\": \"function\"\n",
      "    }\n",
      "  ]\n",
      "}\n"
     ]
    }
   ],
   "source": [
    "assistant_beta = client.beta.assistants.update(\n",
    "  assistant_id,\n",
    "  instructions=\"You are a friendly assistant.\",\n",
    "  name=\"Assistant Beta\",\n",
    "  tools=[        \n",
    "        {\n",
    "            \"type\": \"function\",\n",
    "            \"function\": {\n",
    "                \"name\": \"getCurrentWeather\",\n",
    "                \"description\": \"Get the weather in location\",\n",
    "                \"parameters\": {\n",
    "                    \"type\": \"object\",\n",
    "                    \"properties\": {\n",
    "                        \"location\": {\n",
    "                            \"type\": \"string\", \n",
    "                            \"description\": \"The city and state e.g. San Francisco, CA\"\n",
    "                        },\n",
    "                        \"unit\": {\n",
    "                            \"type\": \"string\", \n",
    "                            \"enum\": [\"c\", \"f\"]\n",
    "                        }\n",
    "                    },\n",
    "                    \"required\": [\"location\"]\n",
    "                }\n",
    "            },\n",
    "        },\n",
    "        {\n",
    "            \"type\": \"function\",\n",
    "            \"function\": {\n",
    "                \"name\": \"getCurrentTraffic\",\n",
    "                \"description\": \"Get the current traffic condition in a city.\",\n",
    "                \"parameters\": {\n",
    "                    \"type\": \"object\",\n",
    "                    \"properties\": {\n",
    "                        \"city\": {\n",
    "                            \"type\": \"string\",\n",
    "                            \"description\": \"The city and state e.g. San Francisco, CA\"\n",
    "                        }\n",
    "                    },\n",
    "                    \"required\": [\"city\"]\n",
    "                }\n",
    "            }\n",
    "        }\n",
    "        \n",
    "    ],\n",
    "  model=\"gpt-3.5-turbo-1106\",\n",
    "  #file_ids=[\"file-abc123\", \"file-abc456\"],\n",
    ")\n",
    "\n",
    "pretty_print(assistant_beta)\n"
   ]
  },
  {
   "cell_type": "markdown",
   "metadata": {},
   "source": [
    "## Step 2: Create New Thread"
   ]
  },
  {
   "cell_type": "code",
   "execution_count": 99,
   "metadata": {},
   "outputs": [
    {
     "name": "stdout",
     "output_type": "stream",
     "text": [
      "{\n",
      "  \"id\": \"thread_fxj26yBmoicBUHxlVu9RcPnv\",\n",
      "  \"created_at\": \"1699792980\",\n",
      "  \"metadata\": \"{}\",\n",
      "  \"object\": \"thread\"\n",
      "}\n"
     ]
    }
   ],
   "source": [
    "new_thread = client.beta.threads.create()\n",
    "pretty_print(new_thread)"
   ]
  },
  {
   "cell_type": "markdown",
   "metadata": {},
   "source": [
    "## Step 3: Create New Message\n",
    "\n",
    "new message should be answered using the 2 available tools"
   ]
  },
  {
   "cell_type": "code",
   "execution_count": 100,
   "metadata": {},
   "outputs": [
    {
     "name": "stdout",
     "output_type": "stream",
     "text": [
      "{\n",
      "  \"id\": \"msg_MkaQimkDj70CAiYcD2F5eJtw\",\n",
      "  \"assistant_id\": null,\n",
      "  \"content\": [\n",
      "    {\n",
      "      \"text\": {\n",
      "        \"annotations\": [],\n",
      "        \"value\": \"Hows the weather and traffic condition in Metro Manila today?\"\n",
      "      },\n",
      "      \"type\": \"text\"\n",
      "    }\n",
      "  ],\n",
      "  \"created_at\": \"1699792994\",\n",
      "  \"file_ids\": [],\n",
      "  \"metadata\": \"{}\",\n",
      "  \"object\": \"thread.message\",\n",
      "  \"role\": \"user\",\n",
      "  \"run_id\": null,\n",
      "  \"thread_id\": \"thread_fxj26yBmoicBUHxlVu9RcPnv\"\n",
      "}\n"
     ]
    }
   ],
   "source": [
    "new_message = client.beta.threads.messages.create(\n",
    "    thread_id=new_thread.id,\n",
    "    role=\"user\",\n",
    "    content=\"Hows the weather and traffic condition in Metro Manila today?\"\n",
    ")\n",
    "pretty_print(new_message)"
   ]
  },
  {
   "cell_type": "markdown",
   "metadata": {},
   "source": [
    "### Utils: Display Existing Messages in Thread ID"
   ]
  },
  {
   "cell_type": "code",
   "execution_count": 101,
   "metadata": {},
   "outputs": [
    {
     "name": "stdout",
     "output_type": "stream",
     "text": [
      "{\n",
      "  \"id\": \"msg_MkaQimkDj70CAiYcD2F5eJtw\",\n",
      "  \"assistant_id\": null,\n",
      "  \"content\": [\n",
      "    {\n",
      "      \"text\": {\n",
      "        \"annotations\": [],\n",
      "        \"value\": \"Hows the weather and traffic condition in Metro Manila today?\"\n",
      "      },\n",
      "      \"type\": \"text\"\n",
      "    }\n",
      "  ],\n",
      "  \"created_at\": \"1699792994\",\n",
      "  \"file_ids\": [],\n",
      "  \"metadata\": \"{}\",\n",
      "  \"object\": \"thread.message\",\n",
      "  \"role\": \"user\",\n",
      "  \"run_id\": null,\n",
      "  \"thread_id\": \"thread_fxj26yBmoicBUHxlVu9RcPnv\"\n",
      "}\n"
     ]
    }
   ],
   "source": [
    "new_thread_messages = client.beta.threads.messages.list(new_thread.id)\n",
    "\n",
    "for index in range(len(new_thread_messages.data)):\n",
    "    pretty_print(new_thread_messages.data[index])"
   ]
  },
  {
   "cell_type": "markdown",
   "metadata": {},
   "source": [
    "## Step 4: Create Run"
   ]
  },
  {
   "cell_type": "code",
   "execution_count": 102,
   "metadata": {},
   "outputs": [],
   "source": [
    "new_run = client.beta.threads.runs.create(\n",
    "  thread_id=new_thread.id,\n",
    "  assistant_id=assistant_id,\n",
    "  # optional param if you want to override 'system message' on a per run basis.\n",
    "  instructions=\"You are a friendly assistant with access to tools. Use all available tools if necessary to answer the user query.\",\n",
    "  #tools=tools < -- available param if you want to modify tool set on a per run basis.\n",
    ")"
   ]
  },
  {
   "cell_type": "markdown",
   "metadata": {},
   "source": [
    "## Step 5: Wait for Run to finish then View"
   ]
  },
  {
   "cell_type": "code",
   "execution_count": 109,
   "metadata": {},
   "outputs": [
    {
     "name": "stdout",
     "output_type": "stream",
     "text": [
      "{\n",
      "  \"id\": \"run_CVJMEJawgagaDCMEZUuH6Rqc\",\n",
      "  \"assistant_id\": \"asst_y3eBA6MHVryI4X81SeS1U0Ni\",\n",
      "  \"cancelled_at\": null,\n",
      "  \"completed_at\": null,\n",
      "  \"created_at\": \"1699793009\",\n",
      "  \"expires_at\": \"1699793609\",\n",
      "  \"failed_at\": null,\n",
      "  \"file_ids\": [],\n",
      "  \"instructions\": \"You are a friendly assistant with access to tools. Use all available tools if necessary to answer the user query.\",\n",
      "  \"last_error\": null,\n",
      "  \"metadata\": \"{}\",\n",
      "  \"model\": \"gpt-3.5-turbo-1106\",\n",
      "  \"object\": \"thread.run\",\n",
      "  \"required_action\": {\n",
      "    \"submit_tool_outputs\": {\n",
      "      \"tool_calls\": [\n",
      "        {\n",
      "          \"id\": \"call_gwyyPb5IabNnYBQnXAoVO0Mk\",\n",
      "          \"function\": {\n",
      "            \"arguments\": \"{'location': 'Metro Manila, Philippines', 'unit': 'c'}\",\n",
      "            \"name\": \"getCurrentWeather\"\n",
      "          },\n",
      "          \"type\": \"function\"\n",
      "        },\n",
      "        {\n",
      "          \"id\": \"call_yUIffc5AzhIBPsXdiCgNmb8J\",\n",
      "          \"function\": {\n",
      "            \"arguments\": \"{'city': 'Metro Manila, Philippines'}\",\n",
      "            \"name\": \"getCurrentTraffic\"\n",
      "          },\n",
      "          \"type\": \"function\"\n",
      "        }\n",
      "      ]\n",
      "    },\n",
      "    \"type\": \"submit_tool_outputs\"\n",
      "  },\n",
      "  \"started_at\": \"1699793009\",\n",
      "  \"status\": \"requires_action\",\n",
      "  \"thread_id\": \"thread_fxj26yBmoicBUHxlVu9RcPnv\",\n",
      "  \"tools\": [\n",
      "    {\n",
      "      \"function\": {\n",
      "        \"name\": \"getCurrentWeather\",\n",
      "        \"parameters\": \"{'type': 'object', 'properties': {'location': {'type': 'string', 'description': 'The city and state e.g. San Francisco, CA'}, 'unit': {'type': 'string', 'enum': ['c', 'f']}}, 'required': ['location']}\",\n",
      "        \"description\": \"Get the weather in location\"\n",
      "      },\n",
      "      \"type\": \"function\"\n",
      "    },\n",
      "    {\n",
      "      \"function\": {\n",
      "        \"name\": \"getCurrentTraffic\",\n",
      "        \"parameters\": \"{'type': 'object', 'properties': {'city': {'type': 'string', 'description': 'The city and state e.g. San Francisco, CA'}}, 'required': ['city']}\",\n",
      "        \"description\": \"Get the current traffic condition in a city.\"\n",
      "      },\n",
      "      \"type\": \"function\"\n",
      "    }\n",
      "  ]\n",
      "}\n"
     ]
    }
   ],
   "source": [
    "import time\n",
    "\n",
    "def wait_on_run(run, thread):\n",
    "    while run.status == \"queued\" or run.status == \"in_progress\":\n",
    "        run = client.beta.threads.runs.retrieve(\n",
    "            thread_id=thread.id,\n",
    "            run_id=run.id,\n",
    "        )\n",
    "        time.sleep(0.5)\n",
    "    return run\n",
    "\n",
    "new_run = wait_on_run(new_run, new_thread)\n",
    "pretty_print(new_run)"
   ]
  },
  {
   "cell_type": "markdown",
   "metadata": {},
   "source": [
    "# If status = requires_action:\n",
    "\n",
    "### Initialize tool_call as var "
   ]
  },
  {
   "cell_type": "code",
   "execution_count": 104,
   "metadata": {},
   "outputs": [
    {
     "name": "stdout",
     "output_type": "stream",
     "text": [
      "[\n",
      "  {\n",
      "    \"id\": \"call_gwyyPb5IabNnYBQnXAoVO0Mk\",\n",
      "    \"function\": {\n",
      "      \"arguments\": \"{'location': 'Metro Manila, Philippines', 'unit': 'c'}\",\n",
      "      \"name\": \"getCurrentWeather\"\n",
      "    },\n",
      "    \"type\": \"function\"\n",
      "  },\n",
      "  {\n",
      "    \"id\": \"call_yUIffc5AzhIBPsXdiCgNmb8J\",\n",
      "    \"function\": {\n",
      "      \"arguments\": \"{'city': 'Metro Manila, Philippines'}\",\n",
      "      \"name\": \"getCurrentTraffic\"\n",
      "    },\n",
      "    \"type\": \"function\"\n",
      "  }\n",
      "]\n"
     ]
    }
   ],
   "source": [
    "new_tool_call = new_run.required_action.submit_tool_outputs.tool_calls\n",
    "pretty_print(new_tool_call)"
   ]
  },
  {
   "cell_type": "markdown",
   "metadata": {},
   "source": [
    "## Step 6: Update Run with Tool Output"
   ]
  },
  {
   "cell_type": "code",
   "execution_count": 105,
   "metadata": {},
   "outputs": [
    {
     "name": "stdout",
     "output_type": "stream",
     "text": [
      "{\n",
      "  \"id\": \"run_CVJMEJawgagaDCMEZUuH6Rqc\",\n",
      "  \"assistant_id\": \"asst_y3eBA6MHVryI4X81SeS1U0Ni\",\n",
      "  \"cancelled_at\": null,\n",
      "  \"completed_at\": null,\n",
      "  \"created_at\": \"1699793009\",\n",
      "  \"expires_at\": \"1699793609\",\n",
      "  \"failed_at\": null,\n",
      "  \"file_ids\": [],\n",
      "  \"instructions\": \"You are a friendly assistant with access to tools. Use all available tools if necessary to answer the user query.\",\n",
      "  \"last_error\": null,\n",
      "  \"metadata\": \"{}\",\n",
      "  \"model\": \"gpt-3.5-turbo-1106\",\n",
      "  \"object\": \"thread.run\",\n",
      "  \"required_action\": null,\n",
      "  \"started_at\": \"1699793009\",\n",
      "  \"status\": \"queued\",\n",
      "  \"thread_id\": \"thread_fxj26yBmoicBUHxlVu9RcPnv\",\n",
      "  \"tools\": [\n",
      "    {\n",
      "      \"function\": {\n",
      "        \"name\": \"getCurrentWeather\",\n",
      "        \"parameters\": \"{'type': 'object', 'properties': {'location': {'type': 'string', 'description': 'The city and state e.g. San Francisco, CA'}, 'unit': {'type': 'string', 'enum': ['c', 'f']}}, 'required': ['location']}\",\n",
      "        \"description\": \"Get the weather in location\"\n",
      "      },\n",
      "      \"type\": \"function\"\n",
      "    },\n",
      "    {\n",
      "      \"function\": {\n",
      "        \"name\": \"getCurrentTraffic\",\n",
      "        \"parameters\": \"{'type': 'object', 'properties': {'city': {'type': 'string', 'description': 'The city and state e.g. San Francisco, CA'}}, 'required': ['city']}\",\n",
      "        \"description\": \"Get the current traffic condition in a city.\"\n",
      "      },\n",
      "      \"type\": \"function\"\n",
      "    }\n",
      "  ]\n",
      "}\n"
     ]
    }
   ],
   "source": [
    "run = client.beta.threads.runs.submit_tool_outputs(\n",
    "  thread_id=new_thread.id,\n",
    "  run_id=new_run.id,\n",
    "  tool_outputs=[\n",
    "    {\n",
    "      \"tool_call_id\": new_tool_call[0].id,\n",
    "      \"output\": \"19C\"\n",
    "    },\n",
    "    {\n",
    "      \"tool_call_id\": new_tool_call[1].id,\n",
    "      \"output\": \"carmageddon levels per the usual\"\n",
    "    }\n",
    "\n",
    "  ]\n",
    ")\n",
    "pretty_print(run)"
   ]
  },
  {
   "cell_type": "markdown",
   "metadata": {},
   "source": [
    "### Display Content of Thread again"
   ]
  },
  {
   "cell_type": "code",
   "execution_count": 106,
   "metadata": {},
   "outputs": [
    {
     "name": "stdout",
     "output_type": "stream",
     "text": [
      "{\n",
      "  \"id\": \"msg_J5gpI4FhDSlUYTFfbiOIWNLA\",\n",
      "  \"assistant_id\": \"asst_y3eBA6MHVryI4X81SeS1U0Ni\",\n",
      "  \"content\": [\n",
      "    {\n",
      "      \"text\": {\n",
      "        \"annotations\": [],\n",
      "        \"value\": \"The weather in Metro Manila today is 19\\u00b0C. As for the traffic condition, it's at \\\"carmageddon levels per the usual.\\\" Stay safe out there!\"\n",
      "      },\n",
      "      \"type\": \"text\"\n",
      "    }\n",
      "  ],\n",
      "  \"created_at\": \"1699793058\",\n",
      "  \"file_ids\": [],\n",
      "  \"metadata\": \"{}\",\n",
      "  \"object\": \"thread.message\",\n",
      "  \"role\": \"assistant\",\n",
      "  \"run_id\": \"run_CVJMEJawgagaDCMEZUuH6Rqc\",\n",
      "  \"thread_id\": \"thread_fxj26yBmoicBUHxlVu9RcPnv\"\n",
      "}\n",
      "{\n",
      "  \"id\": \"msg_MkaQimkDj70CAiYcD2F5eJtw\",\n",
      "  \"assistant_id\": null,\n",
      "  \"content\": [\n",
      "    {\n",
      "      \"text\": {\n",
      "        \"annotations\": [],\n",
      "        \"value\": \"Hows the weather and traffic condition in Metro Manila today?\"\n",
      "      },\n",
      "      \"type\": \"text\"\n",
      "    }\n",
      "  ],\n",
      "  \"created_at\": \"1699792994\",\n",
      "  \"file_ids\": [],\n",
      "  \"metadata\": \"{}\",\n",
      "  \"object\": \"thread.message\",\n",
      "  \"role\": \"user\",\n",
      "  \"run_id\": null,\n",
      "  \"thread_id\": \"thread_fxj26yBmoicBUHxlVu9RcPnv\"\n",
      "}\n"
     ]
    }
   ],
   "source": [
    "new_thread_messages = client.beta.threads.messages.list(new_thread.id)\n",
    "\n",
    "for index in range(len(new_thread_messages.data)):\n",
    "    pretty_print(new_thread_messages.data[index])"
   ]
  },
  {
   "cell_type": "markdown",
   "metadata": {},
   "source": [
    "### Utils: Pretty Print Thread Content"
   ]
  },
  {
   "cell_type": "code",
   "execution_count": 107,
   "metadata": {},
   "outputs": [
    {
     "name": "stdout",
     "output_type": "stream",
     "text": [
      "User: \"Hows the weather and traffic condition in Metro Manila today?\"\n",
      "Assistant: \"The weather in Metro Manila today is 19°C. As for the traffic condition, it's at \"carmageddon levels per the usual.\" Stay safe out there!\"\n",
      "\n"
     ]
    }
   ],
   "source": [
    "print(pretty_print_thread(new_thread_messages))"
   ]
  },
  {
   "cell_type": "markdown",
   "metadata": {},
   "source": [
    "### Utils: View Run Steps"
   ]
  },
  {
   "cell_type": "code",
   "execution_count": 108,
   "metadata": {},
   "outputs": [
    {
     "name": "stdout",
     "output_type": "stream",
     "text": [
      "{\n",
      "  \"tool_calls\": [\n",
      "    {\n",
      "      \"id\": \"call_gwyyPb5IabNnYBQnXAoVO0Mk\",\n",
      "      \"function\": {\n",
      "        \"arguments\": \"{'location': 'Metro Manila, Philippines', 'unit': 'c'}\",\n",
      "        \"name\": \"getCurrentWeather\",\n",
      "        \"output\": \"19C\"\n",
      "      },\n",
      "      \"type\": \"function\"\n",
      "    },\n",
      "    {\n",
      "      \"id\": \"call_yUIffc5AzhIBPsXdiCgNmb8J\",\n",
      "      \"function\": {\n",
      "        \"arguments\": \"{'city': 'Metro Manila, Philippines'}\",\n",
      "        \"name\": \"getCurrentTraffic\",\n",
      "        \"output\": \"carmageddon levels per the usual\"\n",
      "      },\n",
      "      \"type\": \"function\"\n",
      "    }\n",
      "  ],\n",
      "  \"type\": \"tool_calls\"\n",
      "}\n",
      "null\n",
      "{\n",
      "  \"message_creation\": {\n",
      "    \"message_id\": \"msg_J5gpI4FhDSlUYTFfbiOIWNLA\"\n",
      "  },\n",
      "  \"type\": \"message_creation\"\n",
      "}\n",
      "null\n"
     ]
    }
   ],
   "source": [
    "new_run_steps = client.beta.threads.runs.steps.list(\n",
    "    thread_id=new_thread.id, run_id=new_run.id, order=\"asc\"\n",
    ")\n",
    "\n",
    "for step in new_run_steps.data:\n",
    "    step_details = step.step_details\n",
    "    print(json.dumps(pretty_print(step_details), indent=4))"
   ]
  }
 ],
 "metadata": {
  "kernelspec": {
   "display_name": ".venv_azure_solutions",
   "language": "python",
   "name": "python3"
  },
  "language_info": {
   "codemirror_mode": {
    "name": "ipython",
    "version": 3
   },
   "file_extension": ".py",
   "mimetype": "text/x-python",
   "name": "python",
   "nbconvert_exporter": "python",
   "pygments_lexer": "ipython3",
   "version": "3.10.12"
  }
 },
 "nbformat": 4,
 "nbformat_minor": 2
}
