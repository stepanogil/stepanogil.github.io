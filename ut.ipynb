{
 "cells": [
  {
   "cell_type": "code",
   "execution_count": 40,
   "metadata": {},
   "outputs": [],
   "source": [
    "import requests\n",
    "import json\n",
    "from icecream import ic\n",
    "\n",
    "def chat(content):\n",
    "    url = \"https://jgs-api-chatbot-service-dev.azurewebsites.net/v1/chats-no-persist\"\n",
    "    headers = {\n",
    "        \"Content-Type\": \"application/json\",\n",
    "        \"X-APP-ID\": \"41063048\",\n",
    "        \"User-Id\": \"STEPHEN_ESS1\",\n",
    "        \"X-API-SECRET-KEY\": "."
    "    }\n",
    "    data = {\n",
    "        \"message\": [\n",
    "            {\"role\": \"user\", \"content\": content},\n",
    "        ],\n",
    "        \"employee_number\": \"1234567890\",\n",
    "        \"employee_name\": \"Stephen Bonifacio\",\n",
    "        \"employee_email\": \"stephen.bonifacio@email.com\",\n",
    "        \"company_code\": \"URCP\",\n",
    "        \"role\": \"USER\"\n",
    "    }\n",
    "\n",
    "    response = requests.post(url, json=data, headers=headers)\n",
    "\n",
    "    # pretty_json = json.dumps(json.loads(response.text), indent=2)\n",
    "    # print(pretty_json)\n",
    "\n",
    "    dict = json.loads(response.text)\n",
    "    return dict[\"data\"][\"message\"][\"content\"]"
   ]
  },
  {
   "cell_type": "code",
   "execution_count": 41,
   "metadata": {},
   "outputs": [
    {
     "data": {
      "text/plain": [
       "'Hello! How can I assist you today?'"
      ]
     },
     "execution_count": 41,
     "metadata": {},
     "output_type": "execute_result"
    }
   ],
   "source": [
    "chat(\"hi assistant\")"
   ]
  },
  {
   "cell_type": "markdown",
   "metadata": {},
   "source": [
    "# Pag-ibig "
   ]
  },
  {
   "cell_type": "code",
   "execution_count": 42,
   "metadata": {},
   "outputs": [
    {
     "data": {
      "text/plain": [
       "'To apply for a Pag-IBIG Multi-Purpose Loan, please follow these steps:\\n\\n1. Log your request by creating a ticket in the Employee Service Portal.\\n2. Attach your accomplished Pag-IBIG Multi-Purpose Loan Application Form and other requirements to the ticket before clicking \"Submit\".\\n3. Aspen HR will review your requirements and, once complete, will electronically sign your application form and send it to you via email and through the ticket.\\n4. Submit your loan application through the Pag-IBIG website: [Pag-IBIG Loan Application](https://www.pagibigfundservices.com/virtualpagibig/Loans.aspx).\\n5. Save the Reference Number of your loan application to check the status later. Provide Aspen HR with your Reference Number by responding to the email notification or by replying through your ticket.\\n6. Wait for a text message from Pag-IBIG once your loan proceeds are credited to your EMV cash card.\\n7. Check your EMV cash card for the credited amount.\\n\\nRemember to use black ink when completing the form and print the application form back-to-back on a single sheet of paper. Ensure you sign the back portion of the form for seamless processing.\\n\\nYou can download the Pag-IBIG Multi-Purpose Loan Application Form [here](https://www.pagibigfund.gov.ph/document/pdf/dlforms/providentrelated/SLF065_MultiPurposeLoanApplicationForm_V06.pdf).'"
      ]
     },
     "execution_count": 42,
     "metadata": {},
     "output_type": "execute_result"
    }
   ],
   "source": [
    "chat(\"How to apply for a Pag-IBIG Multi-Purpose Loan?\")"
   ]
  },
  {
   "cell_type": "code",
   "execution_count": 43,
   "metadata": {},
   "outputs": [
    {
     "data": {
      "text/plain": [
       "'To file a manual submission of a Pag-IBIG Loan through Aspen, please follow these steps:\\n\\n1. Log your request by creating a ticket.\\n2. Prepare your transmittal form and submit your complete requirements to Aspen Human Resources at 10th Floor Cyberscape Beta, Between Topaz and Ruby Roads, Ortigas Central Business District, Pasig City.\\n3. Aspen HR will validate and sign your form. You may read \"How to fill out the Pag-IBIG Multi-Purpose Loan (MPL) Application Form\" for guidance.\\n4. Aspen HR reviews your requirements and, once complete, submits your loan application to Pag-IBIG and monitors the status of your loan application and the crediting of your loan proceeds.\\n\\nPlease ensure you have the following requirements ready for submission:\\n- Hard copy Pag-IBIG MPL Application Form (front and back)\\n- Hard copy of one month payslip\\n- Photocopy of 2 valid IDs\\n- Photocopy of EMV cash card with 3 specimen signatures\\n\\nWait for the text message from Pag-IBIG once your loan proceeds are credited to your EMV cash card and check your EMV cash card for the credited amount.'"
      ]
     },
     "execution_count": 43,
     "metadata": {},
     "output_type": "execute_result"
    }
   ],
   "source": [
    "chat(\"How to file manual submission of Pag-IBIG Loan through Aspen?\")"
   ]
  },
  {
   "cell_type": "code",
   "execution_count": 44,
   "metadata": {},
   "outputs": [
    {
     "data": {
      "text/plain": [
       "\"For manual filing and submission of a Pag-IBIG Loan Application, you need to prepare the following requirements:\\n\\n1. Hard copy Pag-IBIG MPL Application Form (front and back)\\n2. Hard copy of one month payslip\\n3. Photocopy of 2 valid IDs (choose from the list below):\\n   - Pag-IBIG Loyalty Card\\n   - Company ID\\n   - Passport\\n   - SSS Card\\n   - Driver's License\\n   - Voter's ID\\n   - Postal ID\\n   - PRC License\\n   - Integrated Bar of the Philippines ID\\n4. Photocopy of EMV cash card with 3 specimen signatures\\n\\nAfter preparing these, you can submit your complete requirements to Aspen Human Resources for validation and signing.\""
      ]
     },
     "execution_count": 44,
     "metadata": {},
     "output_type": "execute_result"
    }
   ],
   "source": [
    "chat(\"What are the requirements of manual filing and submission of Pag-IBIG Loan Application?\")"
   ]
  },
  {
   "cell_type": "code",
   "execution_count": 45,
   "metadata": {},
   "outputs": [
    {
     "data": {
      "text/plain": [
       "'To check your Pag-IBIG contributions, follow these steps:\\n\\n1. Fill out the Request Slip.\\n2. Prepare a photocopy of your valid ID (e.g., Pag-IBIG Loyalty Card, Passport, SSS Card, Driver’s License, Voter’s ID, Postal ID, PRC License, or Integrated Bar of the Philippines ID).\\n3. Submit your Request Slip and photocopy of your valid ID to any Pag-IBIG branch.\\n4. Receive a copy of your contributions or ESAV from the Pag-IBIG Officer within the day.\\n\\nYou can download the Pag-IBIG Contribution Request Slip from the Pag-IBIG website and find the nearest Pag-IBIG Branch there as well.'"
      ]
     },
     "execution_count": 45,
     "metadata": {},
     "output_type": "execute_result"
    }
   ],
   "source": [
    "chat(\"How to check Pag-IBIG contributions?\")"
   ]
  },
  {
   "cell_type": "code",
   "execution_count": 46,
   "metadata": {},
   "outputs": [
    {
     "data": {
      "text/plain": [
       "'To apply for a Pag-IBIG Calamity Loan, follow these steps:\\n\\n1. Check your eligibility:\\n   - At least 24 monthly posted Pag-IBIG contributions.\\n   - At least 1 monthly contribution within the last 6 months before applying.\\n   - Reside in an area declared under a State of Calamity.\\n\\n2. Prepare the necessary forms:\\n   - Pag-IBIG Fund Calamity Loan Application Form [Download here](https://www.pagibigfund.gov.ph/document/pdf/dlforms/providentrelated/SLF066_CalamityLoanApplicationForm_V07.pdf).\\n   - Declaration of Being Affected by Calamity Form [Download here](https://www.pagibigfund.gov.ph/document/pdf/dlforms/housingrelated/HLF453_SwornDeclarationCalamity_ExpressHRRL_V02.pdf).\\n\\n3. Prepare the requirements:\\n   - Photocopy of company ID with three specimen signatures.\\n   - Photocopy of a government ID with three specimen signatures.\\n   - One-month latest payslip.\\n   - Barangay Clearance for residency in the calamity-stricken area.\\n   - Photocopy of your DBP EMV cash card issued by Pag-IBIG (if available).\\n\\n4. File your loan application:\\n   - Submit the completed forms and requirements to Aspen Human Resources, 10th Floor Cyberscape Beta, Ortigas Central Business District, Pasig City.\\n\\n5. Await updates:\\n   - Anticipate email updates from Aspen Human Resources and a text message from Pag-IBIG once your loan proceeds are credited to your DBP EMV cash card.\\n\\n6. Check your EMV cash card for the credited amount.\\n\\nLoan repayment:\\n- The loan is payable within 2 years in 24 monthly installments, starting on the 3rd month following the loan date.\\n- If separated from the company, the outstanding balance will be deducted from your final pay.\\n\\nTips:\\n- Use black ink when completing the form.\\n- Print the application form back-to-back on a single sheet of paper.\\n- Sign the back portion of the application form for seamless processing.'"
      ]
     },
     "execution_count": 46,
     "metadata": {},
     "output_type": "execute_result"
    }
   ],
   "source": [
    "chat(\"How to apply for a Pag-IBIG Calamity Loan?\")"
   ]
  },
  {
   "cell_type": "code",
   "execution_count": 47,
   "metadata": {},
   "outputs": [
    {
     "data": {
      "text/plain": [
       "\"To file a Pag-IBIG Housing Loan Application, please prepare the necessary requirements listed on this page: [Pag-IBIG Loan Requirements](https://www.pagibigfundservices.com/virtualpagibig/HL/Reminder.aspx).\\n\\nThen, you can file your loan application online through this link: [Pag-IBIG Online Housing Loan Application](https://www.pagibigfundservices.com/HousingLoan/Apply/Default.aspx).\\n\\nIt is also recommended to visit a Pag-IBIG Branch for inquiries about filing a housing loan. For additional guidance, you may refer to the Pag-IBIG Citizen's Charter for Housing Loan Availment [here](https://www.pagibigfund.gov.ph/document/pdf/citizencharter/Approved%20Citizen's%20Charter%20(Housing%20Loan%20Availment)%20-%20July%202017.pdf).\""
      ]
     },
     "execution_count": 47,
     "metadata": {},
     "output_type": "execute_result"
    }
   ],
   "source": [
    "chat(\"How to file a Pag-IBIG Housing Loan Application?\")"
   ]
  },
  {
   "cell_type": "code",
   "execution_count": 48,
   "metadata": {},
   "outputs": [
    {
     "data": {
      "text/plain": [
       "\"To update your Pag-IBIG member's details, follow these steps:\\n\\n1. Prepare the Pag-IBIG Member’s Change of Information Form (MCIF), which you can download from the provided link.\\n2. Gather the required documents:\\n   - Photocopy of your company ID with three specimen signatures.\\n   - Photocopy of a government ID with three specimen signatures (e.g., Pag-IBIG Loyalty Card, Passport, SSS Card, Driver’s License, Voter’s ID, Postal ID, PRC License, or Integrated Bar of the Philippines ID).\\n   - Additional documents depending on the type of change (e.g., Marriage Certificate for change in name due to marriage, Birth Certificate for correction of name or date of birth, Court Order for change of marital status, etc.).\\n3. Submit the accomplished MCIF and the requirements to the designated office:\\n   - For Aspen Human Resources: 10th Floor Cyberscape Beta, Between Topaz and Ruby Roads, Ortigas Central Business District, Pasig City.\\n   - For 1AV: Your respective HR Department.\\n   - For SMG: Directly to Pag-IBIG.\\n4. Wait for email updates regarding the submission of your form to Pag-IBIG.\\n5. After 10 business days from the time your documents were received, wait for the stamped receiving copy of the Pag-IBIG MCIF.\\n\\nRemember to write your details in capital letters on the MCIF. For additional instructions, refer to the back portion of the MCIF.\""
      ]
     },
     "execution_count": 48,
     "metadata": {},
     "output_type": "execute_result"
    }
   ],
   "source": [
    "chat(\"How to update Pag-IBIG member's details?\")"
   ]
  },
  {
   "cell_type": "code",
   "execution_count": 49,
   "metadata": {},
   "outputs": [
    {
     "data": {
      "text/plain": [
       "'To file a retirement benefit claim with Pag-IBIG, follow these steps:\\n\\n1. Check your eligibility:\\n   - Automatically eligible at 65 years old.\\n   - Early retirement is possible if:\\n     - You retire from the SSS, GSIS, or government service by law.\\n     - You retire under a private employer’s plan, being at least 45 years old.\\n     - You reach the age of 60.\\n\\n2. Prepare the necessary documents:\\n   - Accomplished Pag-IBIG Application for Provident Benefits (APB) Claim Form. You can download the form [here](https://jgsummit.service-now.com/sys_attachment.do?sys_id=853d0471db9ab410c85f7c63f39619a1).\\n   - Original and photocopy of your Pag-IBIG Loyalty Card.\\n   - Original and photocopy of a valid ID that reflects your date of birth.\\n   - If your ID does not show your date of birth, provide an original and photocopy of your Birth Certificate from PSA.\\n\\n3. Submit the form and documents:\\n   - Print and fill out the APB Claim Form.\\n   - Submit the form and other requirements to the Pag-IBIG Pasay Branch at Ground Flr. Roxas Strip Building, Libertad cor. Roxas Boulevard, Pasay City.\\n\\n4. Discuss your benefits with a Pag-IBIG Representative at the branch.\\n\\n5. Check the status of your claim through the same Pag-IBIG Branch.'"
      ]
     },
     "execution_count": 49,
     "metadata": {},
     "output_type": "execute_result"
    }
   ],
   "source": [
    "chat(\"How to File a Retirement Benefit Claim with Pag-IBIG?\")"
   ]
  },
  {
   "cell_type": "code",
   "execution_count": 50,
   "metadata": {},
   "outputs": [
    {
     "data": {
      "text/plain": [
       "\"To request for increased Pag-IBIG contributions or savings, follow these steps:\\n\\n1. Ensure you are a member of Pag-IBIG and an active employee.\\n2. Download and accomplish the Request to Upgrade Membership Savings (MS) Form from the provided link.\\n3. Submit the accomplished MS Form to the appropriate office:\\n   - For Non-EP: Aspen Human Resources at 10th Floor Cyberscape Beta, Ortigas, Pasig City.\\n   - For EP: 42nd Floor Robinsons Equitable Tower, Ortigas, Pasig City.\\n   - For CEB employees: CEB HR at People Department Office, Cebu Pacific Bldg., Pasay City.\\n4. Wait for an email confirmation from Aspen Human Resources that your request has been processed.\\n\\nYour increased contributions will be deducted from your salary on the nearest payout. Increasing your savings allows you to earn higher dividends and increase your loanable amount for Housing and Multi-Purpose Loans. Note that the employer's contribution remains at PHP 100.\""
      ]
     },
     "execution_count": 50,
     "metadata": {},
     "output_type": "execute_result"
    }
   ],
   "source": [
    "chat(\"How to request for increased Pag-IBIG Contributions or Savings?\")"
   ]
  },
  {
   "cell_type": "code",
   "execution_count": 51,
   "metadata": {},
   "outputs": [
    {
     "data": {
      "text/plain": [
       "'To apply for a Pag-IBIG Loyalty Card Plus, follow these steps:\\n\\n1. Ensure you are a member of Pag-IBIG.\\n2. Download and fill out the Pag-IBIG Loyalty Card Plus Application Form from the Pag-IBIG website.\\n3. Have your Pag-IBIG Membership Identification (MID) Number ready.\\n4. Prepare the card fee of PhP 125.00.\\n5. Visit the nearest Pag-IBIG Branch for MID Number validation and to submit your application form.\\n6. Pay the card fee to the bank personnel at Pag-IBIG.\\n7. Have your picture and fingerprints taken, and sign on the digital tablet.\\n8. Validate your information on the computer monitor.\\n9. Claim your Pag-IBIG Loyalty Card Plus and PIN mailer from the bank personnel.\\n10. Update your contact details with Pag-IBIG to receive advisories on new partners and benefits.\\n\\nFor more information on the benefits and partners, visit the Pag-IBIG website.'"
      ]
     },
     "execution_count": 51,
     "metadata": {},
     "output_type": "execute_result"
    }
   ],
   "source": [
    "chat(\"How to apply for Pag-IBIG Loyalty Card Plus?\")"
   ]
  },
  {
   "cell_type": "code",
   "execution_count": 52,
   "metadata": {},
   "outputs": [
    {
     "data": {
      "text/plain": [
       "'To fill out the Pag-IBIG Multi-Purpose Loan (MPL) Application Form, follow these steps:\\n\\n1. Print out a copy of the Pag-IBIG Multi-Purpose Loan Application Form back-to-back on one single sheet of paper. You can download the form from the provided link.\\n\\n2. Provide the necessary details on the upper half of the form.\\n\\n3. Read the Application Agreement, sign above your printed name in the space provided, and provide your Company Name and the Signature of your Office Head or Authorized Representative.\\n\\n4. Read the promissory note and sign above your printed name in the space provided. Then, have your MPL form signed by 2 witnesses, who can be relatives or colleagues.\\n\\n5. Fill out the Certificate of NET Pay as applicable.\\n\\nRemember, you must meet certain requirements to file the Certificate of NET Pay, such as having made at least 24 monthly membership savings, at least one membership saving within the last six months, and not having any defaulting Pag-IBIG housing loan or MPL/Calamity Loan accounts.'"
      ]
     },
     "execution_count": 52,
     "metadata": {},
     "output_type": "execute_result"
    }
   ],
   "source": [
    "chat(\"How to fill out the Pag-IBIG Multi-Purpose Loan (MPL) Application Form?\")"
   ]
  },
  {
   "cell_type": "code",
   "execution_count": 53,
   "metadata": {},
   "outputs": [
    {
     "data": {
      "text/plain": [
       "'To file your Pag-IBIG MP2 savings, please follow these steps:\\n\\n1. Prepare your accomplished Modified Pag-IBIG II Enrollment Form. You can download the form from this link: [Modified Pag-IBIG II Enrollment Form](https://jgsummit.service-now.com/sys_attachment.do?sys_id=4289cdf7dbb28c900b6944371b961919).\\n\\n2. Personally submit the completed form to the nearest Pag-IBIG Branch. You can find the list of branches here: [Pag-IBIG Branches](https://www.pagibigfund.gov.ph/contactus.html).\\n\\n3. Once your MP2 savings account is recorded, you can pay the monthly savings amount at the Pag-IBIG Branch or through any Pag-IBIG Fund-accredited collection partner.'"
      ]
     },
     "execution_count": 53,
     "metadata": {},
     "output_type": "execute_result"
    }
   ],
   "source": [
    "chat(\"How to file Pag-IBIG MP2 savings?\")"
   ]
  },
  {
   "cell_type": "markdown",
   "metadata": {},
   "source": [
    "# SSS"
   ]
  },
  {
   "cell_type": "code",
   "execution_count": 54,
   "metadata": {},
   "outputs": [
    {
     "data": {
      "text/plain": [
       "'To view your SSS loan status or details and loan payments online, follow these steps:\\n\\n1. Prepare your SSS Online Account.\\n2. Go to www.sss.gov.ph and click on \"Member.\"\\n3. Log into your account with your username and password.\\n4. Mouse over \"Inquiry\" and click on \"Loans Info.\"\\n5. Click on \"Salary Loan / Calamity Loan\" to view the latest Loan Application Details.\\n6. To view the summary of your loan payments, click the first \"SALARY LOAN\" listed in the table of availed loans.\\n7. View your posted loan payments.\\n\\nFor SMG employees, take a screenshot of this page and send it to SMG Payroll for salary deduction purposes. Make sure your name, SS number, and CRN number are included in the screenshot.'"
      ]
     },
     "execution_count": 54,
     "metadata": {},
     "output_type": "execute_result"
    }
   ],
   "source": [
    "chat(\"How to view SSS loan status or details and loan payments online?\")"
   ]
  },
  {
   "cell_type": "code",
   "execution_count": 55,
   "metadata": {},
   "outputs": [
    {
     "data": {
      "text/plain": [
       "'To file a Retirement Benefit Claim with SSS, follow these steps:\\n\\n1. Determine if you are eligible for retirement benefits by ensuring you have paid at least 120 monthly contributions before the semester of retirement and meet the age and employment status requirements.\\n\\n2. Decide between the monthly pension or lump sum payment.\\n\\n3. Prepare the required documents:\\n   - Accomplished SSS Retirement Claim Application Form\\n   - Accomplished SSS Affidavit of Separation from Employment (if under 65 years old)\\n   - DDR Signature Card and DDR Savings Account form\\n   - Certified true copy of birth or baptismal certificate of dependent children (if applicable)\\n   - Certificate of cessation of business or practice of profession (for self-employed members under 65)\\n   - Certified true copy of marriage certificate (if applicable)\\n   - Proofs of filiation for illegitimate dependent children (if applicable)\\n   - Original UMID or SSS biometrics ID card or two other valid IDs, both with signature and at least one with photo and date of birth\\n\\n4. Open a single savings account in a bank of your choice and submit the savings account number and a photocopy of your passbook or ATM Card to SSS.\\n\\n5. Print and fill out the SSS Retirement Claim Application Form and SSS Affidavit of Separation from Employment (if under 65 years old).\\n\\n6. Submit the application and required documents to SSS.\\n\\nNote: Other supporting documents may be requested by SSS depending on the evaluation of your claim.'"
      ]
     },
     "execution_count": 55,
     "metadata": {},
     "output_type": "execute_result"
    }
   ],
   "source": [
    "chat(\"How to File a Retirement Benefit Claim with SSS?\")"
   ]
  },
  {
   "cell_type": "code",
   "execution_count": 56,
   "metadata": {},
   "outputs": [
    {
     "data": {
      "text/plain": [
       "'To enroll your bank account on My.SSS for your benefits or loan proceeds, follow these steps:\\n\\n1. Provide valid and active bank account details or mobile numbers.\\n2. Do not use closed, dormant, frozen, dollar, joint, time-deposit, prepaid, or restricted accounts.\\n3. Ensure the account name matches your registered name in SSS.\\n4. Avoid using an account already registered for SSS disbursement by someone else.\\n5. Enter the correct bank account number, not the ATM card number.\\n6. Employers can enroll one PESONet-participating bank account, while employed and individually-paying members can enroll up to three but must nominate one for disbursement.\\n7. For Cash Cards, verify that the issuing bank allows SSS disbursement.\\n8. For Remittance Payout Companies (RTCs) and Cash Payout Outlets (CPOs), ensure your mobile number is correct for receiving the reference number via text.\\n9. For E-Wallets like PayMaya, ensure your account is upgraded to receive full proceeds.\\n\\nRemember, any errors in the details can result in non-crediting of your benefit proceeds, and re-crediting may take up to 30 days upon correction.'"
      ]
     },
     "execution_count": 56,
     "metadata": {},
     "output_type": "execute_result"
    }
   ],
   "source": [
    "chat(\"How to Enroll your Bank Account on My.SSS for your Benefits Loan Proceeds?\")"
   ]
  },
  {
   "cell_type": "markdown",
   "metadata": {},
   "source": [
    "# Philhealth"
   ]
  },
  {
   "cell_type": "code",
   "execution_count": 57,
   "metadata": {},
   "outputs": [
    {
     "data": {
      "text/plain": [
       "\"To request your PhilHealth documents:\\n\\n1. Log your request by creating a ticket through the provided link.\\n2. Validate the information that is automatically populated in the ticket.\\n3. Provide the required details, including your hire date.\\n4. Identify your preferred Mode of Delivery.\\n5. Wait for updates via the ticketing system and email.\\n6. Receive your documents based on your preferred Mode of Delivery.\\n\\nRemember to request your PhilHealth Certificate and Claim Form 1 as soon as you or your dependent is confined for a hassle-free hospital discharge. If you've been with the company for less than 9 months, you'll receive your Certificate of Contributions and MDR, and you should proceed to any PhilHealth branch for your list of posted contributions.\""
      ]
     },
     "execution_count": 57,
     "metadata": {},
     "output_type": "execute_result"
    }
   ],
   "source": [
    "chat(\"How to request for your Philhealth documents?\")"
   ]
  },
  {
   "cell_type": "code",
   "execution_count": 58,
   "metadata": {},
   "outputs": [
    {
     "data": {
      "text/plain": [
       "\"To apply for a PhilHealth ID card, follow these steps:\\n\\n1. Ensure you are a PhilHealth member to be eligible.\\n2. For the regular PhilHealth card (paper ID), you can get it for free from any PhilHealth Local Health Insurance Office (LHIO).\\n3. For the PVC-type PhilHealth Insurance Card, apply at any PhilHealth branch and pay Php 90.00.\\n\\nIf you need assistance with the regular PhilHealth card, here's what to do:\\n\\n1. Prepare a photocopy of your government ID.\\n2. Prepare an authorization letter using the provided template.\\n3. Submit these documents to Aspen Human Resources at 10th Floor Cyberscape Beta, Ortigas Central Business District, Pasig City.\\n4. Wait for an email update regarding the submission of your documents.\\n5. Receive your regular PhilHealth ID at your office after 2 weeks from the request.\\n\\nAlternatively, you can personally visit a PhilHealth office to apply and potentially receive your regular PhilHealth ID on the same day. If you need to update your last name on the ID, fill out the PhilHealth Member Registration Form (PMRF) first.\""
      ]
     },
     "execution_count": 58,
     "metadata": {},
     "output_type": "execute_result"
    }
   ],
   "source": [
    "chat(\"How to apply for a Philhealth ID card?\")"
   ]
  },
  {
   "cell_type": "code",
   "execution_count": 59,
   "metadata": {},
   "outputs": [
    {
     "data": {
      "text/plain": [
       "'Your monthly PhilHealth premium contribution is 4% of your monthly basic pay, with an income floor of Php 10,000.00 and an income ceiling of Php 80,000.00. This is split equally between you and your employer. If your monthly basic pay is Php 50,000.00, your contribution would be Php 2,000.00 (Php 1,000.00 employee share and Php 1,000.00 employer share). If you earn more than the ceiling, the calculation will be based on the maximum income ceiling of Php 80,000.00.'"
      ]
     },
     "execution_count": 59,
     "metadata": {},
     "output_type": "execute_result"
    }
   ],
   "source": [
    "chat(\"How much are my monthly PhilHealth Premium Contribution?\")"
   ]
  },
  {
   "cell_type": "code",
   "execution_count": 60,
   "metadata": {},
   "outputs": [
    {
     "data": {
      "text/plain": [
       "\"To update your PhilHealth member's details, follow these steps:\\n\\n1. Prepare two copies of the accomplished PhilHealth Member Registration Form (PMRF). You can download the form from the provided link.\\n2. Prepare photocopies of 2 valid IDs (Company and Government ID).\\n3. Depending on the changes, you may need additional documents:\\n   - For change of civil status: 2 photocopies of your marriage certificate.\\n   - For adding or changing dependents: 2 photocopies of birth certificates for your children.\\n   - For correction of name or date of birth: 2 photocopies of your birth certificate.\\n4. Submit the PMRF and the required documents to Aspen Human Resources or your respective HR Department.\\n5. Wait for email updates regarding the submission of your form to PhilHealth.\\n6. Expect a soft copy of your updated Member Data Record (MDR) to be sent to your email after 2 weeks. You can also check your MDR through your PhilHealth online account.\\n\\nFor certificates from the Philippine Statistics Authority, refer to the provided link. For additional instructions, you may refer to the article on how to fill out the PMRF or the back portion of the PMRF itself.\""
      ]
     },
     "execution_count": 60,
     "metadata": {},
     "output_type": "execute_result"
    }
   ],
   "source": [
    "chat(\"How to update PhilHealth member's details?\")"
   ]
  },
  {
   "cell_type": "code",
   "execution_count": 61,
   "metadata": {},
   "outputs": [
    {
     "data": {
      "text/plain": [
       "\"To fill out the PhilHealth Member Registration Form (PMRF), please follow these steps:\\n\\n1. Print and fill out the PhilHealth Member Registration Form (PMRF). You can download the form from the provided link.\\n2. Attach a 1x1 photo taken within the last 6 months.\\n3. Prepare the original and photocopy of your Senior Citizen's Identification Card issued by the OSCA in the city or municipality where you are residing, or any other valid ID.\\n4. Submit your accomplished PMRF and the requirements to the nearest PhilHealth office.\\n\\nFor the nearest PhilHealth branch, you may click the link provided in the document to locate it.\""
      ]
     },
     "execution_count": 61,
     "metadata": {},
     "output_type": "execute_result"
    }
   ],
   "source": [
    "chat(\"How to fill out the PhilHealth Member Registration Form (PMRF)?\")"
   ]
  },
  {
   "cell_type": "code",
   "execution_count": 62,
   "metadata": {},
   "outputs": [
    {
     "data": {
      "text/plain": [
       "\"To become a Lifetime Member of PhilHealth, you must:\\n\\n1. Be a Filipino citizen, a resident of the Philippines, and aged 60 years or above.\\n2. Have paid at least 120 monthly contributions.\\n3. Accomplish 2 copies of the PhilHealth Member Registration Form (PMRF), which can be downloaded from the provided link.\\n4. Prepare a 1x1 photo taken within the last 6 months.\\n5. Provide the original and photocopy of your Senior Citizen's Identification Card issued by the OSCA in the city or municipality where you reside, or 1 valid ID.\\n6. Submit the accomplished PMRF and the requirements to the nearest PhilHealth office.\\n\\nYou can find the nearest PhilHealth branch by clicking on the provided link in the document. If you are retiring, your employer should facilitate your enrolment into the Lifetime Member Program at least three months prior to your retirement date.\""
      ]
     },
     "execution_count": 62,
     "metadata": {},
     "output_type": "execute_result"
    }
   ],
   "source": [
    "chat(\"How to Become a Lifetime Member of PhilHealth?\")"
   ]
  },
  {
   "cell_type": "code",
   "execution_count": 63,
   "metadata": {},
   "outputs": [
    {
     "data": {
      "text/plain": [
       "'To fill out the PhilHealth Documents request ticket, follow these steps:\\n\\n1. View the article about PhilHealth documents by clicking the provided link.\\n2. Validate the information in the ticket. If submitting on behalf of an employee, select their name from the dropdown.\\n3. If the employee\\'s name is not in the list, check the \"Employee is not found in the list\" box and enter their full name.\\n4. Provide other required details. If your location is not listed, check the \"Location not listed\" box and enter the exact work location.\\n5. Choose your preferred Mode of Delivery for the PhilHealth Documents.\\n6. If you select \"Pickup at your office location,\" provide the exact floor number and building name.\\n7. If you select \"Pickup at Aspen Office at 10th Floor Cyberscape Beta,\" indicate if you or a representative will pick up the documents. If a representative, provide their full name and contact number.\\n8. For \"Via GrabBike Delivery,\" no additional information is needed, but you are responsible for booking and paying for the service. Include a special instruction for the GrabBike driver to pick up at 10F Cyberscape Beta.\\n9. Add any employee to the \"Watch List\" if you want them to be notified about the status of your request.\\n10. After filling up all details, click Submit.'"
      ]
     },
     "execution_count": 63,
     "metadata": {},
     "output_type": "execute_result"
    }
   ],
   "source": [
    "chat(\"How to fill out the PhilHealth Documents request ticket?\")"
   ]
  },
  {
   "cell_type": "code",
   "execution_count": 64,
   "metadata": {},
   "outputs": [
    {
     "data": {
      "text/plain": [
       "'To view your PhilHealth contributions and MDR online:\\n\\n1. Prepare your PhilHealth online account.\\n2. Visit [PhilHealth Member Inquiry](https://memberinquiry.philhealth.gov.ph/member/) and log in.\\n3. Answer your Security Question to proceed.\\n4. For contributions, click \"Premium Contributions\" to see the summary and latest posted contributions.\\n5. For MDR, click \"MDR Printing\" to view, download, or print your Member Data Record.\\n\\nIf you find any discrepancies, please reach out to Aspen Human Resources for assistance with PhilHealth.'"
      ]
     },
     "execution_count": 64,
     "metadata": {},
     "output_type": "execute_result"
    }
   ],
   "source": [
    "chat(\"How to view PhilHealth contributions and Member's Data Record (MDR) online?\")"
   ]
  },
  {
   "cell_type": "code",
   "execution_count": 65,
   "metadata": {},
   "outputs": [
    {
     "data": {
      "text/plain": [
       "'To create a PhilHealth online account, follow these steps:\\n\\n1. Prepare your PhilHealth Identification Number (PIN) and your personal email address.\\n2. Go to www.philhealth.gov.ph/services/inquiry/ and click \"Register.\"\\n3. Complete the required personal information.\\n4. Assign your Security Questions with corresponding answers and click \"Submit Registration.\"\\n5. Wait for the confirmation window to appear after submitting your registration form.\\n6. Activate your online account by clicking the link that will be provided to you by PhilHealth through an email.\\n7. Wait for the prompt on the website that your account has been activated.\\n\\nRemember to double-check the information you provide during registration and activate your account immediately upon receiving the email confirmation.'"
      ]
     },
     "execution_count": 65,
     "metadata": {},
     "output_type": "execute_result"
    }
   ],
   "source": [
    "chat(\"How to create a Philhealth online account?\")"
   ]
  },
  {
   "cell_type": "markdown",
   "metadata": {},
   "source": [
    "# Others"
   ]
  },
  {
   "cell_type": "code",
   "execution_count": 66,
   "metadata": {},
   "outputs": [
    {
     "data": {
      "text/plain": [
       "'To file an RBank GO! Salary Loan application, follow these steps:\\n\\n1. Confirm your eligibility as an employee of the Gokongwei Group.\\n2. Prepare the following requirements:\\n   - Photo of a valid government ID (TIN or SSS)\\n   - Soft copy or photo of your most recent payslip (1 month)\\n   - If applicable, an appliance price quotation from Robinsons Appliance Store and the RBank Loan Payee Form (link provided in the document).\\n3. Visit the GO! Salary Loan Application Site specific to your business unit. If your company link is not listed, contact your HR for the correct link.\\n4. Use the loan calculator to select your preferred loan amount and term payment.\\n5. Fill out the application form with your employment and personal information.\\n6. Upload the required documents.\\n7. Review and submit your form.\\n8. Wait for email and text confirmation that you have successfully submitted your application.\\n9. Your application will be reviewed, and you will receive an email and text regarding your loan application status.\\n\\nPlease note that the loan term ranges from 6 to 36 months with an interest rate of 0.85% per month. There are charges such as a processing fee of P250.00, credit insurance fee, and applicable documentary stamps tax for loans over P250,000.'"
      ]
     },
     "execution_count": 66,
     "metadata": {},
     "output_type": "execute_result"
    }
   ],
   "source": [
    "chat(\"How to file RBank GO! Salary Loan application\")"
   ]
  },
  {
   "cell_type": "code",
   "execution_count": 67,
   "metadata": {},
   "outputs": [
    {
     "data": {
      "text/plain": [
       "\"*I'm sorry I don't have this information, please ask assistance from your HRBP*.\""
      ]
     },
     "execution_count": 67,
     "metadata": {},
     "output_type": "execute_result"
    }
   ],
   "source": [
    "chat(\"XXXXXXXX\")"
   ]
  },
  {
   "cell_type": "code",
   "execution_count": 69,
   "metadata": {},
   "outputs": [
    {
     "data": {
      "text/plain": [
       "\"*I'm sorry I don't have this information, please ask assistance from your HRBP.*\""
      ]
     },
     "execution_count": 69,
     "metadata": {},
     "output_type": "execute_result"
    }
   ],
   "source": [
    "chat(\"Cellphone Allowance\")"
   ]
  }
 ],
 "metadata": {
  "kernelspec": {
   "display_name": ".venv_azure_solutions",
   "language": "python",
   "name": "python3"
  },
  "language_info": {
   "codemirror_mode": {
    "name": "ipython",
    "version": 3
   },
   "file_extension": ".py",
   "mimetype": "text/x-python",
   "name": "python",
   "nbconvert_exporter": "python",
   "pygments_lexer": "ipython3",
   "version": "3.10.12"
  }
 },
 "nbformat": 4,
 "nbformat_minor": 2
}
